{
 "cells": [
  {
   "cell_type": "code",
   "execution_count": 1,
   "metadata": {
    "collapsed": true
   },
   "outputs": [],
   "source": [
    "import MNISTData\n",
    "from sklearn import tree, metrics"
   ]
  },
  {
   "cell_type": "code",
   "execution_count": 2,
   "metadata": {
    "collapsed": false
   },
   "outputs": [
    {
     "name": "stdout",
     "output_type": "stream",
     "text": [
      "Loading Data...\n"
     ]
    }
   ],
   "source": [
    "# get data\n",
    "print(\"Loading Data...\")\n",
    "mnist = MNISTData.MNISTData(data_dir=\"data/\")"
   ]
  },
  {
   "cell_type": "code",
   "execution_count": 3,
   "metadata": {
    "collapsed": false
   },
   "outputs": [
    {
     "name": "stdout",
     "output_type": "stream",
     "text": [
      "Training Decision Tree Classifier...\n"
     ]
    }
   ],
   "source": [
    "# create classifier\n",
    "print(\"Training Decision Tree Classifier...\")\n",
    "classifier = tree.DecisionTreeClassifier()\n",
    "classifier = classifier.fit(mnist.train.data, mnist.train.labels)"
   ]
  },
  {
   "cell_type": "code",
   "execution_count": 4,
   "metadata": {
    "collapsed": false
   },
   "outputs": [
    {
     "name": "stdout",
     "output_type": "stream",
     "text": [
      "Making Predictions...\n"
     ]
    }
   ],
   "source": [
    "# calculate predictions on test data\n",
    "print(\"Making Predictions...\")\n",
    "predicted_labels = classifier.predict(mnist.test.data)"
   ]
  },
  {
   "cell_type": "code",
   "execution_count": 5,
   "metadata": {
    "collapsed": false
   },
   "outputs": [
    {
     "name": "stdout",
     "output_type": "stream",
     "text": [
      "Evaluating Classifier...\n",
      "========Results========\n",
      "Accuracy: 0.844286\n",
      "[[556   1   4   9   5  14  10   3   5   4]\n",
      " [  0 667  11   5   3   6   3   4  10   3]\n",
      " [  7  10 515  22  11   9  12  27  20   9]\n",
      " [  7   6  27 499   5  36   5   6  24  19]\n",
      " [  3   6   6   3 498  11  14  11  15  29]\n",
      " [  5   9   7  36   6 450  14   5  18  17]\n",
      " [ 11   4  10   3   8  17 566   4  13   5]\n",
      " [  2   3  17  12   7   2   2 581   7  24]\n",
      " [  8  16   9  25  17  20  12  12 464  17]\n",
      " [  5   4   8  11  31  13   6  26  13 523]]\n"
     ]
    }
   ],
   "source": [
    "# evaluate predictions\n",
    "print(\"Evaluating Classifier...\")\n",
    "accuracy = metrics.accuracy_score(mnist.test.labels, predicted_labels)\n",
    "confusion_matrix = metrics.confusion_matrix(mnist.test.labels, predicted_labels)\n",
    "\n",
    "print(\"========Results========\")\n",
    "print(\"Accuracy: %f\" % (accuracy))\n",
    "print(confusion_matrix)"
   ]
  },
  {
   "cell_type": "code",
   "execution_count": null,
   "metadata": {
    "collapsed": true
   },
   "outputs": [],
   "source": []
  }
 ],
 "metadata": {
  "kernelspec": {
   "display_name": "Python [Root]",
   "language": "python",
   "name": "Python [Root]"
  },
  "language_info": {
   "codemirror_mode": {
    "name": "ipython",
    "version": 3
   },
   "file_extension": ".py",
   "mimetype": "text/x-python",
   "name": "python",
   "nbconvert_exporter": "python",
   "pygments_lexer": "ipython3",
   "version": "3.5.2"
  }
 },
 "nbformat": 4,
 "nbformat_minor": 0
}
