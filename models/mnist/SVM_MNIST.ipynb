{
 "cells": [
  {
   "cell_type": "code",
   "execution_count": 1,
   "metadata": {
    "collapsed": true
   },
   "outputs": [],
   "source": [
    "from sklearn import svm, metrics\n",
    "from sklearn.ensemble import BaggingClassifier\n",
    "import numpy as np\n",
    "\n",
    "import MNISTData"
   ]
  },
  {
   "cell_type": "code",
   "execution_count": 2,
   "metadata": {
    "collapsed": false
   },
   "outputs": [
    {
     "name": "stdout",
     "output_type": "stream",
     "text": [
      "Loading Data...\n"
     ]
    }
   ],
   "source": [
    "# get data\n",
    "print(\"Loading Data...\")\n",
    "mnist = MNISTData.MNISTData(data_dir=\"data/\")"
   ]
  },
  {
   "cell_type": "code",
   "execution_count": 3,
   "metadata": {
    "collapsed": false
   },
   "outputs": [],
   "source": [
    "def evaluate_model(fitted_model):\n",
    "    # calculate predictions on test data\n",
    "    print(\"Making Predictions...\")\n",
    "    predicted_labels = fitted_model.predict(mnist.test.data)\n",
    "    # evaluate predictions\n",
    "    print(\"Evaluating Classifier...\")\n",
    "    accuracy = metrics.accuracy_score(mnist.test.labels, predicted_labels)\n",
    "    confusion_matrix = metrics.confusion_matrix(mnist.test.labels, predicted_labels)\n",
    "\n",
    "    print(\"========Results========\")\n",
    "    print(\"Accuracy: %f\" % (accuracy))\n",
    "    print(confusion_matrix)"
   ]
  },
  {
   "cell_type": "code",
   "execution_count": null,
   "metadata": {
    "collapsed": false
   },
   "outputs": [],
   "source": [
    "# build simple SVM classifier\n",
    "num_train = 10000\n",
    "simple_svm = svm.SVC(verbose=True)\n",
    "simple_svm = simple_svm.fit(mnist.train.data[:num_train], mnist.train.labels[:num_train]) \n",
    "# takes forever on full dataset..."
   ]
  },
  {
   "cell_type": "code",
   "execution_count": 13,
   "metadata": {
    "collapsed": false
   },
   "outputs": [],
   "source": [
    "# build bagged SVM\n",
    "options = {'base_estimator': svm.SVC(),\n",
    "           'n_estimators': 16,\n",
    "           'max_samples': 0.1,\n",
    "           'max_features': 1.0,\n",
    "           'oob_score': False,\n",
    "           'n_jobs': 8,\n",
    "           'verbose': 0}\n",
    "\n",
    "bagging = BaggingClassifier(**options)"
   ]
  },
  {
   "cell_type": "code",
   "execution_count": 14,
   "metadata": {
    "collapsed": true
   },
   "outputs": [],
   "source": [
    "bagging = bagging.fit(mnist.train.data, mnist.train.labels)"
   ]
  },
  {
   "cell_type": "code",
   "execution_count": 15,
   "metadata": {
    "collapsed": false
   },
   "outputs": [
    {
     "name": "stdout",
     "output_type": "stream",
     "text": [
      "Making Predictions...\n",
      "Evaluating Classifier...\n",
      "========Results========\n",
      "Accuracy: 0.885238\n",
      "[[582   0   4   2   1   6   7   0   7   2]\n",
      " [  0 701   1   2   0   3   0   2   2   1]\n",
      " [  8  18 529  10  14   2  19  12  28   2]\n",
      " [  2   7  24 537   2  22   6   7  18   9]\n",
      " [  1   6   5   1 531   0   4   2   1  45]\n",
      " [  5  19   4  39   7 472  12   1   3   5]\n",
      " [  8   9  11   0   2  10 599   0   2   0]\n",
      " [  1  22   9   0   9   2   0 591   2  21]\n",
      " [  4  33   9  25   5  18   3   4 485  14]\n",
      " [  4   7   3   8  34   1   1  29   3 550]]\n"
     ]
    }
   ],
   "source": [
    "evaluate_model(bagging)"
   ]
  },
  {
   "cell_type": "code",
   "execution_count": null,
   "metadata": {
    "collapsed": true
   },
   "outputs": [],
   "source": []
  }
 ],
 "metadata": {
  "anaconda-cloud": {},
  "kernelspec": {
   "display_name": "Python [Root]",
   "language": "python",
   "name": "Python [Root]"
  },
  "language_info": {
   "codemirror_mode": {
    "name": "ipython",
    "version": 3
   },
   "file_extension": ".py",
   "mimetype": "text/x-python",
   "name": "python",
   "nbconvert_exporter": "python",
   "pygments_lexer": "ipython3",
   "version": "3.5.2"
  }
 },
 "nbformat": 4,
 "nbformat_minor": 0
}
