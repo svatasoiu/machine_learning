{
 "cells": [
  {
   "cell_type": "code",
   "execution_count": 21,
   "metadata": {
    "collapsed": true
   },
   "outputs": [],
   "source": [
    "from sklearn.model_selection import cross_val_score\n",
    "from sklearn.ensemble import RandomForestClassifier\n",
    "from sklearn import tree, metrics\n",
    "import numpy as np\n",
    "\n",
    "import MNISTData"
   ]
  },
  {
   "cell_type": "code",
   "execution_count": 22,
   "metadata": {
    "collapsed": false
   },
   "outputs": [
    {
     "name": "stdout",
     "output_type": "stream",
     "text": [
      "Loading Data...\n"
     ]
    }
   ],
   "source": [
    "# get data\n",
    "print(\"Loading Data...\")\n",
    "mnist = MNISTData.MNISTData(data_dir=\"data/\")"
   ]
  },
  {
   "cell_type": "code",
   "execution_count": 26,
   "metadata": {
    "collapsed": false
   },
   "outputs": [],
   "source": [
    "# build boosted decision tree classifier\n",
    "classifier = RandomForestClassifier(n_estimators=100)\n",
    "classifier = classifier.fit(mnist.train.data, mnist.train.labels)"
   ]
  },
  {
   "cell_type": "code",
   "execution_count": 27,
   "metadata": {
    "collapsed": false
   },
   "outputs": [
    {
     "name": "stdout",
     "output_type": "stream",
     "text": [
      "Making Predictions...\n"
     ]
    }
   ],
   "source": [
    "# calculate predictions on test data\n",
    "print(\"Making Predictions...\")\n",
    "predicted_labels = classifier.predict(mnist.test.data)"
   ]
  },
  {
   "cell_type": "code",
   "execution_count": 28,
   "metadata": {
    "collapsed": false
   },
   "outputs": [
    {
     "name": "stdout",
     "output_type": "stream",
     "text": [
      "Evaluating Classifier...\n",
      "========Results========\n",
      "Accuracy: 0.962698\n",
      "[[601   0   0   0   0   1   4   0   4   1]\n",
      " [  0 704   2   3   0   1   0   1   0   1]\n",
      " [  3   4 613   4   4   0   4   3   6   1]\n",
      " [  3   0  14 588   0   9   2   4  11   3]\n",
      " [  1   1   1   0 579   0   0   2   2  10]\n",
      " [  3   1   1  12   1 535   5   1   2   6]\n",
      " [  2   2   1   0   0   6 630   0   0   0]\n",
      " [  0   5   5   1   2   0   0 637   2   5]\n",
      " [  2   4   3   5   2   2   1   1 571   9]\n",
      " [  2   1   1   6  10   2   0   7   4 607]]\n"
     ]
    }
   ],
   "source": [
    "# evaluate predictions\n",
    "print(\"Evaluating Classifier...\")\n",
    "accuracy = metrics.accuracy_score(mnist.test.labels, predicted_labels)\n",
    "confusion_matrix = metrics.confusion_matrix(mnist.test.labels, predicted_labels)\n",
    "\n",
    "print(\"========Results========\")\n",
    "print(\"Accuracy: %f\" % (accuracy))\n",
    "print(confusion_matrix)"
   ]
  },
  {
   "cell_type": "code",
   "execution_count": null,
   "metadata": {
    "collapsed": true
   },
   "outputs": [],
   "source": []
  }
 ],
 "metadata": {
  "kernelspec": {
   "display_name": "Python [Root]",
   "language": "python",
   "name": "Python [Root]"
  },
  "language_info": {
   "codemirror_mode": {
    "name": "ipython",
    "version": 3
   },
   "file_extension": ".py",
   "mimetype": "text/x-python",
   "name": "python",
   "nbconvert_exporter": "python",
   "pygments_lexer": "ipython3",
   "version": "3.5.2"
  }
 },
 "nbformat": 4,
 "nbformat_minor": 0
}
