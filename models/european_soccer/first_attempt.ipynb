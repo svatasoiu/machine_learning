{
 "cells": [
  {
   "cell_type": "code",
   "execution_count": 1,
   "metadata": {
    "collapsed": true
   },
   "outputs": [],
   "source": [
    "%matplotlib inline\n",
    "\n",
    "import matplotlib\n",
    "import numpy as np\n",
    "import matplotlib.pyplot as plt\n",
    "\n",
    "import sqlite3 as sql\n",
    "import pandas as pd"
   ]
  },
  {
   "cell_type": "code",
   "execution_count": 2,
   "metadata": {
    "collapsed": true
   },
   "outputs": [],
   "source": [
    "DB_FILE = \"data/database.sqlite\""
   ]
  },
  {
   "cell_type": "code",
   "execution_count": 3,
   "metadata": {
    "collapsed": true
   },
   "outputs": [],
   "source": [
    "db_conn = sql.connect(DB_FILE)"
   ]
  },
  {
   "cell_type": "code",
   "execution_count": 4,
   "metadata": {
    "collapsed": false
   },
   "outputs": [
    {
     "name": "stdout",
     "output_type": "stream",
     "text": [
      "(1, 505942, 'Aaron Appindangoye', 218353, '1992-02-29 00:00:00', 182.88, 187)\n",
      "(2, 155782, 'Aaron Cresswell', 189615, '1989-12-15 00:00:00', 170.18, 146)\n",
      "(3, 162549, 'Aaron Doran', 186170, '1991-05-13 00:00:00', 170.18, 163)\n",
      "(4, 30572, 'Aaron Galindo', 140161, '1982-05-08 00:00:00', 182.88, 198)\n",
      "(5, 23780, 'Aaron Hughes', 17725, '1979-11-08 00:00:00', 182.88, 154)\n",
      "(6, 27316, 'Aaron Hunt', 158138, '1986-09-04 00:00:00', 182.88, 161)\n",
      "(7, 564793, 'Aaron Kuhl', 221280, '1996-01-30 00:00:00', 172.72, 146)\n",
      "(8, 30895, 'Aaron Lennon', 152747, '1987-04-16 00:00:00', 165.1, 139)\n",
      "(9, 528212, 'Aaron Lennox', 206592, '1993-02-19 00:00:00', 190.5, 181)\n",
      "(10, 101042, 'Aaron Meijers', 188621, '1987-10-28 00:00:00', 175.26, 170)\n"
     ]
    }
   ],
   "source": [
    "cursor = db_conn.execute(\"SELECT * FROM Player LIMIT 10\")\n",
    "for row in cursor:\n",
    "    print(row)"
   ]
  },
  {
   "cell_type": "code",
   "execution_count": 5,
   "metadata": {
    "collapsed": false
   },
   "outputs": [
    {
     "name": "stdout",
     "output_type": "stream",
     "text": [
      "('2008-07-18 00:00:00',)\n",
      "('2008-07-19 00:00:00',)\n",
      "('2008-07-20 00:00:00',)\n",
      "('2008-07-20 00:00:00',)\n",
      "('2008-07-23 00:00:00',)\n",
      "('2008-07-23 00:00:00',)\n",
      "('2008-07-23 00:00:00',)\n",
      "('2008-07-24 00:00:00',)\n",
      "('2008-07-24 00:00:00',)\n",
      "('2008-07-26 00:00:00',)\n"
     ]
    }
   ],
   "source": [
    "cursor = db_conn.execute(\"SELECT date FROM Match ORDER BY date LIMIT 10 \")\n",
    "for row in cursor:\n",
    "    print(row)"
   ]
  },
  {
   "cell_type": "code",
   "execution_count": 6,
   "metadata": {
    "collapsed": false
   },
   "outputs": [
    {
     "name": "stdout",
     "output_type": "stream",
     "text": [
      "(1, 'Belgium')\n",
      "(1729, 'England')\n",
      "(4769, 'France')\n",
      "(7809, 'Germany')\n",
      "(10257, 'Italy')\n",
      "(13274, 'Netherlands')\n",
      "(15722, 'Poland')\n",
      "(17642, 'Portugal')\n",
      "(19694, 'Scotland')\n",
      "(21518, 'Spain')\n",
      "(24558, 'Switzerland')\n"
     ]
    }
   ],
   "source": [
    "cursor = db_conn.execute(\"SELECT * FROM Country\")\n",
    "for row in cursor:\n",
    "    print(row)"
   ]
  },
  {
   "cell_type": "code",
   "execution_count": 7,
   "metadata": {
    "collapsed": false
   },
   "outputs": [
    {
     "name": "stdout",
     "output_type": "stream",
     "text": [
      "(1, 1, 'Belgium Jupiler League')\n",
      "(1729, 1729, 'England Premier League')\n",
      "(4769, 4769, 'France Ligue 1')\n",
      "(7809, 7809, 'Germany 1. Bundesliga')\n",
      "(10257, 10257, 'Italy Serie A')\n",
      "(13274, 13274, 'Netherlands Eredivisie')\n",
      "(15722, 15722, 'Poland Ekstraklasa')\n",
      "(17642, 17642, 'Portugal Liga ZON Sagres')\n",
      "(19694, 19694, 'Scotland Premier League')\n",
      "(21518, 21518, 'Spain LIGA BBVA')\n",
      "(24558, 24558, 'Switzerland Super League')\n"
     ]
    }
   ],
   "source": [
    "cursor = db_conn.execute(\"SELECT * FROM League\")\n",
    "for row in cursor:\n",
    "    print(row)"
   ]
  },
  {
   "cell_type": "code",
   "execution_count": 8,
   "metadata": {
    "collapsed": true
   },
   "outputs": [],
   "source": [
    "# classes for data objects\n",
    "match_columns = \"id,country_id,league_id,season,stage,date,match_api_id,home_team_api_id,away_team_api_id,home_team_goal,away_team_goal\"\n",
    "betting_sources = [\"B365\",\"BW\",\"IW\",\"LB\",\"PS\",\"WH\",\"SJ\",\"VC\",\"GB\",\"BS\"]\n",
    "outcomes = [\"H\",\"D\",\"A\"]\n",
    "for b in betting_sources:\n",
    "    for o in outcomes:\n",
    "        match_columns += \",\" + b + o\n",
    "\n",
    "team_columns = \"id,team_api_id,team_fifa_api_id,team_long_name,team_short_name\"\n",
    "\n",
    "def create_lookup(column_names, delim=\",\"):\n",
    "    return {c: i for (i,c) in enumerate(column_names.split(delim))}\n",
    "\n",
    "match_column_lookup = create_lookup(match_columns)\n",
    "team_column_lookup = create_lookup(team_columns)\n",
    "all_match_ids = []\n",
    "all_matches = {}\n",
    "all_teams = {}\n",
    "\n",
    "class MatchResult:\n",
    "    HOME = 0\n",
    "    DRAW = 1\n",
    "    AWAY = 2\n",
    "    \n",
    "    def toStr(mr):\n",
    "        if mr == MatchResult.HOME:\n",
    "            return \"HOME\"\n",
    "        elif mr == MatchResult.DRAW:\n",
    "            return \"DRAW\"\n",
    "        elif mr == MatchResult.AWAY:\n",
    "            return \"AWAY\"\n",
    "        else:\n",
    "            return \"UNKNOWN RESULT\"\n",
    "\n",
    "class Match(object):\n",
    "    def __init__(self, rawData):\n",
    "        # set attributes\n",
    "        for col_name in match_column_lookup:\n",
    "            setattr(self, col_name, rawData[match_column_lookup[col_name]])\n",
    "            \n",
    "        self.best_home_odds = self.best_draw_odds = self.best_away_odds = 0\n",
    "        if self.home_team_goal > self.away_team_goal:\n",
    "            self.match_result = MatchResult.HOME\n",
    "        elif self.home_team_goal == self.away_team_goal:\n",
    "            self.match_result = MatchResult.DRAW\n",
    "        else:\n",
    "            self.match_result = MatchResult.AWAY\n",
    "\n",
    "class Team(object):\n",
    "    def __init__(self, rawData):\n",
    "        # set attributes\n",
    "        for col_name in team_column_lookup:\n",
    "            setattr(self, col_name, rawData[team_column_lookup[col_name]])        \n",
    "        self.home_wins = self.home_draws = self.home_losses = 0\n",
    "        self.away_wins = self.away_draws = self.away_losses = 0       \n",
    "        self.home_win_percentage = self.home_draw_percentage = self.home_loss_percentage = 0\n",
    "        self.away_win_percentage = self.away_draw_percentage = self.away_loss_percentage = 0\n",
    "    \n",
    "    @property\n",
    "    def features(self):\n",
    "        return [self.home_win_percentage, self.away_win_percentage, \n",
    "               self.home_draw_percentage, self.away_draw_percentage,\n",
    "               self.home_loss_percentage, self.away_loss_percentage]\n",
    "\n",
    "def compute_win_percentages(matches):\n",
    "    # compute win percentage\n",
    "    for match in matches.values():\n",
    "        if match.match_result == MatchResult.HOME:\n",
    "            all_teams[match.home_team_api_id].home_wins += 1\n",
    "            all_teams[match.away_team_api_id].away_losses += 1\n",
    "        elif match.match_result == MatchResult.DRAW:\n",
    "            all_teams[match.home_team_api_id].home_draws += 1\n",
    "            all_teams[match.away_team_api_id].away_draws += 1\n",
    "        else:\n",
    "            all_teams[match.home_team_api_id].home_losses += 1\n",
    "            all_teams[match.away_team_api_id].away_wins += 1\n",
    "\n",
    "    for team in all_teams.values():\n",
    "        total_home_games = float(team.home_wins + team.home_draws + team.home_losses)\n",
    "        if total_home_games > 0:\n",
    "            team.home_win_percentage = team.home_wins / total_home_games\n",
    "            team.home_draw_percentage = team.home_draws / total_home_games\n",
    "            team.home_loss_percentage = team.home_losses / total_home_games\n",
    "        total_away_games = float(team.away_wins + team.away_draws + team.away_losses)\n",
    "        if total_away_games > 0:\n",
    "            team.away_win_percentage = team.away_wins / total_away_games\n",
    "            team.away_draw_percentage = team.away_draws / total_away_games\n",
    "            team.away_loss_percentage = team.away_losses / total_away_games\n",
    "            \n",
    "def compute_best_odds(matches):\n",
    "    for match in matches.values():\n",
    "        odds = {o: [getattr(match, source + o) for source in betting_sources \n",
    "                if getattr(match, source + o) is not None] for o in outcomes }\n",
    "        match.best_home_odds = max(odds[outcomes[0]]) if len(odds[outcomes[0]]) > 0 else 1\n",
    "        match.best_draw_odds = max(odds[outcomes[1]]) if len(odds[outcomes[1]]) > 0 else 1\n",
    "        match.best_away_odds = max(odds[outcomes[2]]) if len(odds[outcomes[2]]) > 0 else 1\n",
    "        \n",
    "        # TODO: compute corresponding implied odds"
   ]
  },
  {
   "cell_type": "code",
   "execution_count": 9,
   "metadata": {
    "collapsed": false
   },
   "outputs": [],
   "source": [
    "# load all matches\n",
    "# only EPL for now\n",
    "cursor = db_conn.execute(\"SELECT %s FROM Match ORDER BY date\" % (match_columns))\n",
    "for row in cursor:\n",
    "    mid = row[match_column_lookup['match_api_id']]\n",
    "    all_match_ids.append(mid)\n",
    "    all_matches[mid] = Match(row)"
   ]
  },
  {
   "cell_type": "code",
   "execution_count": 10,
   "metadata": {
    "collapsed": true
   },
   "outputs": [],
   "source": [
    "# load all teams\n",
    "cursor = db_conn.execute(\"SELECT %s FROM Team\" % (team_columns))\n",
    "for row in cursor:\n",
    "    all_teams[row[team_column_lookup['team_api_id']]] = Team(row)"
   ]
  },
  {
   "cell_type": "code",
   "execution_count": 11,
   "metadata": {
    "collapsed": false
   },
   "outputs": [],
   "source": [
    "# input: match, object of class Match\n",
    "# output: vector of real-valued features, vector of associated labels\n",
    "def compute_match_features(match, one_hot=False):\n",
    "    # [home_team_win_percentage,home_team_draw_percentage,home_team_loss_percentage,...\n",
    "    #  away_team_win_percentage,away_team_draw_percentage,away_team_loss_percentage]\n",
    "    # TODO: historical matchup percentages\n",
    "    # TODO: fifa player ratings\n",
    "    # TODO: fifa team attributes\n",
    "    home_team = all_teams[match.home_team_api_id]\n",
    "    away_team = all_teams[match.away_team_api_id]\n",
    "    features = home_team.features + away_team.features\n",
    "    \n",
    "    if one_hot:\n",
    "        label = [0 for _ in range(3)]\n",
    "        label[match.match_result] = 1\n",
    "        return (features, label)\n",
    "    else:\n",
    "        return (features, match.match_result)"
   ]
  },
  {
   "cell_type": "code",
   "execution_count": 12,
   "metadata": {
    "collapsed": true
   },
   "outputs": [],
   "source": [
    "from sklearn.model_selection import cross_val_score\n",
    "from sklearn.ensemble import RandomForestClassifier\n",
    "from sklearn import tree, metrics"
   ]
  },
  {
   "cell_type": "code",
   "execution_count": 13,
   "metadata": {
    "collapsed": false
   },
   "outputs": [],
   "source": [
    "# create training/testing data sets\n",
    "PROPORTION_TRAIN = 0.9\n",
    "\n",
    "num_matches = len(all_matches)\n",
    "num_train = int(PROPORTION_TRAIN * num_matches)\n",
    "\n",
    "training_match_ids = all_match_ids[:num_train]\n",
    "testing_match_ids = all_match_ids[num_train:]\n",
    "\n",
    "# only compute statistics using training data\n",
    "compute_win_percentages({mid:all_matches[mid] for mid in training_match_ids})\n",
    "compute_best_odds(all_matches)"
   ]
  },
  {
   "cell_type": "code",
   "execution_count": 14,
   "metadata": {
    "collapsed": false
   },
   "outputs": [
    {
     "name": "stdout",
     "output_type": "stream",
     "text": [
      "Ajax 0.7622950819672131\n",
      "Manchester United 0.781021897810219\n",
      "Chelsea 0.708029197080292\n",
      "SL Benfica 0.8198198198198198\n",
      "FC Porto 0.8454545454545455\n",
      "Real Madrid CF 0.8455882352941176\n",
      "FC Bayern Munich 0.7967479674796748\n",
      "Celtic 0.7971014492753623\n",
      "FC Basel 0.7251908396946565\n",
      "Termalica Bruk-Bet Nieciecza 0.75\n",
      "Manchester City 0.7591240875912408\n",
      "Rangers 0.7368421052631579\n",
      "FC Barcelona 0.8676470588235294\n",
      "RSC Anderlecht 0.75\n",
      "PSV 0.7786885245901639\n"
     ]
    },
    {
     "data": {
      "image/png": "[encoded data removed]",
      "text/plain": [
       "<matplotlib.figure.Figure at 0x7f8bcdd50518>"
      ]
     },
     "metadata": {},
     "output_type": "display_data"
    }
   ],
   "source": [
    "win_percentages = [team.home_win_percentage for team in all_teams.values()]\n",
    "plt.hist(win_percentages, 50, facecolor='green', alpha=0.75)\n",
    "\n",
    "for team in all_teams.values():\n",
    "    if team.home_win_percentage > 0.7:\n",
    "        print(team.team_long_name, team.home_win_percentage)"
   ]
  },
  {
   "cell_type": "code",
   "execution_count": 15,
   "metadata": {
    "collapsed": false
   },
   "outputs": [],
   "source": [
    "class BettingAlgorithm():\n",
    "    def __init__(self):\n",
    "        pass\n",
    "    \n",
    "    def train(self, matches):\n",
    "        pass\n",
    "    \n",
    "    def form_bets(self, matches):\n",
    "        pass\n",
    "\n",
    "def compute_features_from_raw_data(matches, one_hot=False):\n",
    "    X = []\n",
    "    y = []\n",
    "    for match in matches:\n",
    "        (f,l) = compute_match_features(match, one_hot=one_hot)\n",
    "        X.append(f)\n",
    "        y.append(l)\n",
    "    X = np.array(X, dtype=np.float32)\n",
    "    y = np.array(y, dtype=np.uint8)\n",
    "    return (X, y)\n",
    "\n",
    "def get_odds(bet):\n",
    "    if bet[2] == MatchResult.HOME:\n",
    "        return all_matches[bet[0]].best_home_odds\n",
    "    elif bet[2] == MatchResult.DRAW:\n",
    "        return all_matches[bet[0]].best_draw_odds\n",
    "    else:\n",
    "        return all_matches[bet[0]].best_away_odds\n",
    "\n",
    "# bet : (mid, amount, winner)\n",
    "def calculate_win_loss(b):\n",
    "    m = all_matches[b[0]]\n",
    "    odds = get_odds(b)\n",
    "    if odds == 1.:\n",
    "        return 0\n",
    "    elif m.match_result == MatchResult.HOME and b[2] == MatchResult.HOME:\n",
    "        return b[1] * (odds - 1)\n",
    "    elif m.match_result == MatchResult.DRAW and b[2] == MatchResult.DRAW:\n",
    "        return b[1] * (odds - 1)\n",
    "    elif m.match_result == MatchResult.AWAY and b[2] == MatchResult.AWAY:\n",
    "        return b[1] * (odds - 1)\n",
    "    else:\n",
    "        return -b[1]\n",
    "\n",
    "def compute_pnl(bets):\n",
    "    return sum([calculate_win_loss(b) for b in bets])"
   ]
  },
  {
   "cell_type": "code",
   "execution_count": 16,
   "metadata": {
    "collapsed": true
   },
   "outputs": [],
   "source": [
    "# naive predictor that always picks favorite\n",
    "class NaiveAlgorithm(BettingAlgorithm):\n",
    "    def __init__(self, **kwargs):\n",
    "        super(NaiveAlgorithm, self).__init__()\n",
    "    \n",
    "    def train(self, matches):\n",
    "        pass\n",
    "        \n",
    "    def form_bets(self, matches):\n",
    "        matches = list(matches)\n",
    "        bets = []\n",
    "        for m in matches:\n",
    "            if m.best_home_odds > 1 and m.best_draw_odds > 1 and m.best_away_odds > 1:\n",
    "                ind = np.argmin([m.best_home_odds, m.best_draw_odds, m.best_away_odds])\n",
    "                bets.append((m.match_api_id, 1., ind))\n",
    "        return bets"
   ]
  },
  {
   "cell_type": "code",
   "execution_count": 17,
   "metadata": {
    "collapsed": true
   },
   "outputs": [],
   "source": [
    "# random forest predictor\n",
    "class RandomForestAlgorithm(BettingAlgorithm):\n",
    "    def __init__(self, **kwargs):\n",
    "        super(RandomForestAlgorithm, self).__init__()\n",
    "        self.classifier = RandomForestClassifier(**kwargs)\n",
    "    \n",
    "    def train(self, matches):\n",
    "        X, y = compute_features_from_raw_data(matches)\n",
    "        self.classifier = self.classifier.fit(X, y)\n",
    "        \n",
    "    def form_bets(self, matches):\n",
    "        matches = list(matches)\n",
    "        X, y = compute_features_from_raw_data(matches)\n",
    "        predicted_labels = self.classifier.predict(X)\n",
    "        print(sum([1 if y_true==y_pred else 0 for (y_true,y_pred) in zip(y,predicted_labels)])/float(len(y)))\n",
    "        # juts bet $1 on every thing\n",
    "        return [(m.match_api_id, 1., outcome) for (m,outcome) in zip(matches,predicted_labels)]"
   ]
  },
  {
   "cell_type": "code",
   "execution_count": 26,
   "metadata": {
    "collapsed": false
   },
   "outputs": [],
   "source": [
    "# neural net algorithm\n",
    "import tensorflow as tf\n",
    "def weight_variable(shape):\n",
    "  initial = tf.truncated_normal(shape, stddev=0.1)\n",
    "  return tf.Variable(initial)\n",
    "\n",
    "def bias_variable(shape):\n",
    "  initial = tf.constant(0., shape=shape)\n",
    "  return tf.Variable(initial)\n",
    "\n",
    "class NeuralNetAlgorithm(BettingAlgorithm):\n",
    "    def __init__(self, **kwargs):\n",
    "        super(NeuralNetAlgorithm, self).__init__()\n",
    "        self.num_classes = 3\n",
    "        self.sess = tf.InteractiveSession()\n",
    "    \n",
    "    def train(self, matches):\n",
    "        self.X, self.y = compute_features_from_raw_data(matches, one_hot=True)\n",
    "        self.index_in_epoch = 0\n",
    "        self.num_examples = self.X.shape[0]\n",
    "        self.num_features = self.X.shape[1]\n",
    "        \n",
    "        # form model\n",
    "        self.x = tf.placeholder(tf.float32, shape=[None, self.num_features])\n",
    "        self.y_ = tf.placeholder(tf.float32, shape=[None, self.num_classes])\n",
    "\n",
    "        # layer 1\n",
    "        self.hidden_layer_size = 50\n",
    "        self.W1 = weight_variable([self.num_features, self.hidden_layer_size]) \n",
    "        self.b1 = bias_variable([self.hidden_layer_size])\n",
    "        self.h1 = tf.nn.relu(tf.matmul(self.x, self.W1) + self.b1)\n",
    "        \n",
    "        # layer 2\n",
    "        self.W2 = weight_variable([self.hidden_layer_size, self.num_classes]) \n",
    "        self.b2 = bias_variable([self.num_classes]) \n",
    "        \n",
    "        # dropout\n",
    "        self.keep_prob = tf.placeholder(tf.float32)\n",
    "        self.y_dropped = tf.nn.dropout(self.h1, self.keep_prob)\n",
    "        \n",
    "        # softmax\n",
    "        self.y_pred = tf.nn.softmax(tf.matmul(self.y_dropped, self.W2) + self.b2)\n",
    "        \n",
    "        self.cross_entropy = tf.reduce_mean(-tf.reduce_sum(self.y_ * tf.log(self.y_pred), reduction_indices=[1]))\n",
    "        self.train_step = tf.train.AdamOptimizer(1e-4).minimize(self.cross_entropy)\n",
    "\n",
    "        self.correct_prediction = tf.equal(tf.argmax(self.y_pred,1), tf.argmax(self.y_,1))\n",
    "        self.accuracy = tf.reduce_mean(tf.cast(self.correct_prediction, tf.float32))\n",
    "\n",
    "        # actual train\n",
    "        self.sess.run(tf.initialize_all_variables())\n",
    "        for i in range(5000):\n",
    "            batch = self.next_batch(100)\n",
    "            if i % 500 == 0:\n",
    "                train_accuracy = self.accuracy.eval(feed_dict={ self.x: batch[0], self.y_: batch[1], self.keep_prob: 1.0 })\n",
    "                print(\"step %d: training accuracy %g\" % (i, train_accuracy))\n",
    "            self.train_step.run(feed_dict={ self.x: batch[0], self.y_: batch[1], self.keep_prob: 0.5 })\n",
    "    \n",
    "    def form_bets(self, matches):\n",
    "        matches = list(matches)\n",
    "        X, y = compute_features_from_raw_data(matches, one_hot=True)\n",
    "        acc = self.accuracy.eval(feed_dict={ self.x: X, self.y_: y, self.keep_prob: 1.0 })\n",
    "        print(acc)\n",
    "        predictions = self.y_pred.eval(feed_dict={ self.x: X, self.y_: y, self.keep_prob: 1.0 })\n",
    "        \n",
    "        # only make bet if has highish confidence\n",
    "        bets = []\n",
    "        for (m,probs) in zip(matches,predictions):\n",
    "            if max(probs) > 0.7:\n",
    "                predicted_result = np.argmax(probs)\n",
    "                # just bet $1 on everything for now\n",
    "                bets.append((m.match_api_id, 1., predicted_result, probs))\n",
    "        return bets\n",
    "    \n",
    "    # serve data by batches\n",
    "    def next_batch(self, batch_size):\n",
    "        start = self.index_in_epoch\n",
    "        self.index_in_epoch += batch_size\n",
    "\n",
    "        # when all trainig data have been already used, it is reorder randomly    \n",
    "        if self.index_in_epoch > self.num_examples:\n",
    "            # shuffle the data\n",
    "            perm = np.arange(self.num_examples)\n",
    "            np.random.shuffle(perm)\n",
    "            self.X = self.X[perm]\n",
    "            self.y = self.y[perm]\n",
    "            # start next epoch\n",
    "            start = 0\n",
    "            self.index_in_epoch = batch_size\n",
    "        end = self.index_in_epoch\n",
    "        return self.X[start:end], self.y[start:end]"
   ]
  },
  {
   "cell_type": "code",
   "execution_count": 27,
   "metadata": {
    "collapsed": false
   },
   "outputs": [
    {
     "data": {
      "text/plain": [
       "-70.60000000000016"
      ]
     },
     "execution_count": 27,
     "metadata": {},
     "output_type": "execute_result"
    }
   ],
   "source": [
    "# test and evaluate Naive Algo\n",
    "naive_algo = NaiveAlgorithm()\n",
    "\n",
    "# train (naive doesn't train)\n",
    "\n",
    "# evaluate\n",
    "testing_bets = naive_algo.form_bets([all_matches[mid] for mid in testing_match_ids])\n",
    "compute_pnl(testing_bets)"
   ]
  },
  {
   "cell_type": "code",
   "execution_count": 28,
   "metadata": {
    "collapsed": false
   },
   "outputs": [
    {
     "name": "stdout",
     "output_type": "stream",
     "text": [
      "0.4353348729792148\n"
     ]
    },
    {
     "data": {
      "text/plain": [
       "-186.83"
      ]
     },
     "execution_count": 28,
     "metadata": {},
     "output_type": "execute_result"
    }
   ],
   "source": [
    "# test and evaluate Random Forest Algo\n",
    "rf_algo = RandomForestAlgorithm(n_estimators = 20)\n",
    "\n",
    "# train\n",
    "rf_algo.train([all_matches[mid] for mid in training_match_ids])\n",
    "\n",
    "# evaluate\n",
    "testing_bets = rf_algo.form_bets([all_matches[mid] for mid in testing_match_ids])\n",
    "compute_pnl(testing_bets)"
   ]
  },
  {
   "cell_type": "code",
   "execution_count": 32,
   "metadata": {
    "collapsed": false
   },
   "outputs": [
    {
     "name": "stderr",
     "output_type": "stream",
     "text": [
      "Exception ignored in: <bound method BaseSession.__del__ of <tensorflow.python.client.session.InteractiveSession object at 0x7f8b8c7296a0>>\n",
      "Traceback (most recent call last):\n",
      "  File \"/home/svatasoiu/anaconda3/lib/python3.5/site-packages/tensorflow/python/client/session.py\", line 178, in __del__\n",
      "    self.close()\n",
      "  File \"/home/svatasoiu/anaconda3/lib/python3.5/site-packages/tensorflow/python/client/session.py\", line 1028, in close\n",
      "    self._default_session.__exit__(None, None, None)\n",
      "  File \"/home/svatasoiu/anaconda3/lib/python3.5/contextlib.py\", line 66, in __exit__\n",
      "    next(self.gen)\n",
      "  File \"/home/svatasoiu/anaconda3/lib/python3.5/site-packages/tensorflow/python/framework/ops.py\", line 3529, in get_controller\n",
      "    % type(default))\n",
      "AssertionError: Nesting violated for default stack of <class 'weakref'> objects\n"
     ]
    },
    {
     "name": "stdout",
     "output_type": "stream",
     "text": [
      "step 0: training accuracy 0.25\n",
      "step 500: training accuracy 0.43\n",
      "step 1000: training accuracy 0.46\n",
      "step 1500: training accuracy 0.52\n",
      "step 2000: training accuracy 0.51\n",
      "step 2500: training accuracy 0.51\n",
      "step 3000: training accuracy 0.56\n",
      "step 3500: training accuracy 0.56\n",
      "step 4000: training accuracy 0.48\n",
      "step 4500: training accuracy 0.57\n",
      "0.492302\n"
     ]
    },
    {
     "data": {
      "text/plain": [
       "-3.519999999999998"
      ]
     },
     "execution_count": 32,
     "metadata": {},
     "output_type": "execute_result"
    }
   ],
   "source": [
    "# test and evaluate Neural Net Algo\n",
    "nn_algo = NeuralNetAlgorithm()\n",
    "\n",
    "# train\n",
    "nn_algo.train([all_matches[mid] for mid in training_match_ids])\n",
    "\n",
    "# evaluate\n",
    "testing_bets = nn_algo.form_bets([all_matches[mid] for mid in testing_match_ids])\n",
    "compute_pnl(testing_bets)"
   ]
  },
  {
   "cell_type": "code",
   "execution_count": 34,
   "metadata": {
    "collapsed": false
   },
   "outputs": [
    {
     "name": "stdout",
     "output_type": "stream",
     "text": [
      "LOST BET: bet $1 on outcome match 1979896 to be HOME @ 1.480000 (probs: [0.727062,0.174296,0.098642])\n",
      "WON BET: bet $1 on outcome match 2060388 to be HOME @ 1.250000 (probs: [0.722549,0.179008,0.0984433])\n",
      "WON BET: bet $1 on outcome match 2015866 to be HOME @ 1.180000 (probs: [0.79357,0.140776,0.0656549])\n",
      "WON BET: bet $1 on outcome match 1988790 to be HOME @ 1.360000 (probs: [0.700714,0.188952,0.110334])\n",
      "WON BET: bet $1 on outcome match 1988793 to be HOME @ 1.360000 (probs: [0.753707,0.159851,0.0864414])\n",
      "WON BET: bet $1 on outcome match 1989876 to be HOME @ 1.530000 (probs: [0.719151,0.182399,0.0984506])\n",
      "LOST BET: bet $1 on outcome match 1983348 to be HOME @ 1.220000 (probs: [0.770406,0.153622,0.0759719])\n",
      "WON BET: bet $1 on outcome match 2030152 to be HOME @ 1.170000 (probs: [0.781559,0.145321,0.0731201])\n",
      "WON BET: bet $1 on outcome match 2030156 to be HOME @ 1.100000 (probs: [0.773278,0.150511,0.0762103])\n",
      "WON BET: bet $1 on outcome match 1994709 to be HOME @ 1.000000 (probs: [0.702192,0.188639,0.109169])\n",
      "WON BET: bet $1 on outcome match 2002173 to be HOME @ 1.150000 (probs: [0.763836,0.155376,0.0807881])\n",
      "WON BET: bet $1 on outcome match 2060428 to be HOME @ 1.400000 (probs: [0.716438,0.181006,0.102556])\n",
      "WON BET: bet $1 on outcome match 1990910 to be HOME @ 1.220000 (probs: [0.715169,0.179798,0.105033])\n",
      "WON BET: bet $1 on outcome match 2030162 to be HOME @ 1.140000 (probs: [0.794237,0.140153,0.06561])\n",
      "WON BET: bet $1 on outcome match 1979920 to be HOME @ 1.390000 (probs: [0.707594,0.186281,0.106126])\n",
      "WON BET: bet $1 on outcome match 1988813 to be HOME @ 1.300000 (probs: [0.72457,0.176832,0.098598])\n",
      "WON BET: bet $1 on outcome match 1983364 to be HOME @ 1.250000 (probs: [0.756611,0.159527,0.0838615])\n",
      "WON BET: bet $1 on outcome match 1990915 to be HOME @ 1.450000 (probs: [0.7268,0.174098,0.0991025])\n",
      "WON BET: bet $1 on outcome match 2030175 to be HOME @ 1.110000 (probs: [0.816578,0.127094,0.0563284])\n",
      "WON BET: bet $1 on outcome match 1979928 to be HOME @ 1.240000 (probs: [0.782534,0.146835,0.0706311])\n",
      "WON BET: bet $1 on outcome match 1988825 to be HOME @ 1.360000 (probs: [0.741464,0.167626,0.0909096])\n",
      "WON BET: bet $1 on outcome match 2002191 to be HOME @ 1.120000 (probs: [0.730293,0.172056,0.097651])\n",
      "WON BET: bet $1 on outcome match 1983376 to be HOME @ 1.340000 (probs: [0.706034,0.183838,0.110128])\n",
      "WON BET: bet $1 on outcome match 2015892 to be HOME @ 1.200000 (probs: [0.78731,0.143743,0.0689465])\n",
      "WON BET: bet $1 on outcome match 2015895 to be HOME @ 1.210000 (probs: [0.806114,0.133104,0.0607812])\n",
      "WON BET: bet $1 on outcome match 2030183 to be HOME @ 1.360000 (probs: [0.747234,0.16246,0.0903061])\n",
      "WON BET: bet $1 on outcome match 1988830 to be HOME @ 1.440000 (probs: [0.729857,0.174583,0.0955597])\n",
      "WON BET: bet $1 on outcome match 1983382 to be HOME @ 1.200000 (probs: [0.754269,0.162528,0.0832024])\n",
      "LOST BET: bet $1 on outcome match 1990927 to be HOME @ 1.140000 (probs: [0.761584,0.158015,0.0804])\n",
      "LOST BET: bet $1 on outcome match 2030197 to be HOME @ 1.530000 (probs: [0.712275,0.184663,0.103062])\n",
      "WON BET: bet $1 on outcome match 2060510 to be HOME @ 1.220000 (probs: [0.726973,0.178704,0.0943227])\n",
      "WON BET: bet $1 on outcome match 1989924 to be HOME @ 1.120000 (probs: [0.741192,0.169184,0.0896241])\n",
      "WON BET: bet $1 on outcome match 2002210 to be HOME @ 1.100000 (probs: [0.753439,0.161465,0.0850965])\n",
      "LOST BET: bet $1 on outcome match 1983392 to be HOME @ 2.160000 (probs: [0.740601,0.169638,0.0897604])\n",
      "WON BET: bet $1 on outcome match 2015907 to be AWAY @ 1.180000 (probs: [0.0956952,0.193787,0.710518])\n",
      "WON BET: bet $1 on outcome match 2030205 to be HOME @ 1.100000 (probs: [0.772198,0.150201,0.077601])\n",
      "WON BET: bet $1 on outcome match 1979952 to be HOME @ 1.290000 (probs: [0.761564,0.158147,0.080289])\n",
      "WON BET: bet $1 on outcome match 1992131 to be HOME @ 1.000000 (probs: [0.702348,0.186575,0.111077])\n",
      "LOST BET: bet $1 on outcome match 1989934 to be HOME @ 1.910000 (probs: [0.724929,0.179069,0.0960018])\n",
      "WON BET: bet $1 on outcome match 1994753 to be HOME @ 1.000000 (probs: [0.700702,0.188222,0.111076])\n",
      "WON BET: bet $1 on outcome match 2015913 to be HOME @ 1.200000 (probs: [0.786136,0.144237,0.0696269])\n",
      "WON BET: bet $1 on outcome match 1988850 to be HOME @ 1.290000 (probs: [0.701993,0.189365,0.108642])\n",
      "LOST BET: bet $1 on outcome match 1988851 to be HOME @ 1.380000 (probs: [0.758598,0.157692,0.0837105])\n",
      "LOST BET: bet $1 on outcome match 1988853 to be HOME @ 1.440000 (probs: [0.741732,0.167555,0.0907132])\n",
      "WON BET: bet $1 on outcome match 1983402 to be HOME @ 1.290000 (probs: [0.705371,0.184449,0.11018])\n",
      "WON BET: bet $1 on outcome match 2015915 to be HOME @ 1.210000 (probs: [0.773833,0.150638,0.0755295])\n",
      "WON BET: bet $1 on outcome match 2030214 to be HOME @ 1.130000 (probs: [0.776189,0.148707,0.0751043])\n",
      "WON BET: bet $1 on outcome match 1983408 to be HOME @ 1.830000 (probs: [0.733986,0.173468,0.0925465])\n",
      "LOST BET: bet $1 on outcome match 1983410 to be HOME @ 1.130000 (probs: [0.739302,0.168303,0.0923944])\n",
      "LOST BET: bet $1 on outcome match 2030226 to be HOME @ 1.100000 (probs: [0.790124,0.141546,0.06833])\n",
      "LOST BET: bet $1 on outcome match 1989950 to be HOME @ 1.440000 (probs: [0.769151,0.155211,0.0756373])\n",
      "WON BET: bet $1 on outcome match 2015925 to be HOME @ 1.180000 (probs: [0.709225,0.18575,0.105026])\n",
      "WON BET: bet $1 on outcome match 1988871 to be HOME @ 1.330000 (probs: [0.727216,0.17632,0.0964645])\n",
      "LOST BET: bet $1 on outcome match 1988873 to be HOME @ 1.500000 (probs: [0.751804,0.162292,0.0859037])\n",
      "WON BET: bet $1 on outcome match 1983419 to be HOME @ 1.260000 (probs: [0.708203,0.183258,0.10854])\n",
      "LOST BET: bet $1 on outcome match 1990951 to be HOME @ 1.150000 (probs: [0.7339,0.170129,0.0959705])\n",
      "WON BET: bet $1 on outcome match 1983424 to be HOME @ 1.120000 (probs: [0.786237,0.144723,0.0690406])\n",
      "WON BET: bet $1 on outcome match 2015928 to be HOME @ 1.300000 (probs: [0.768043,0.153981,0.0779762])\n",
      "WON BET: bet $1 on outcome match 2015932 to be HOME @ 1.160000 (probs: [0.799919,0.136447,0.0636339])\n",
      "WON BET: bet $1 on outcome match 2030233 to be HOME @ 1.100000 (probs: [0.76528,0.154157,0.0805634])\n",
      "WON BET: bet $1 on outcome match 1988884 to be HOME @ 1.220000 (probs: [0.72191,0.178569,0.099521])\n",
      "WON BET: bet $1 on outcome match 1979984 to be HOME @ 1.220000 (probs: [0.753049,0.162105,0.0848455])\n",
      "WON BET: bet $1 on outcome match 1988890 to be HOME @ 1.450000 (probs: [0.734859,0.170394,0.0947477])\n",
      "WON BET: bet $1 on outcome match 2030243 to be HOME @ 1.130000 (probs: [0.755247,0.159247,0.0855067])\n",
      "WON BET: bet $1 on outcome match 2030247 to be HOME @ 1.100000 (probs: [0.79691,0.13722,0.0658701])\n",
      "WON BET: bet $1 on outcome match 1988904 to be HOME @ 1.570000 (probs: [0.729167,0.172602,0.0982315])\n",
      "WON BET: bet $1 on outcome match 1990969 to be HOME @ 1.250000 (probs: [0.768869,0.154451,0.0766797])\n",
      "LOST BET: bet $1 on outcome match 2060609 to be HOME @ 1.420000 (probs: [0.71629,0.18495,0.0987604])\n",
      "WON BET: bet $1 on outcome match 2015946 to be HOME @ 1.330000 (probs: [0.749093,0.163436,0.0874717])\n",
      "LOST BET: bet $1 on outcome match 2015947 to be HOME @ 1.250000 (probs: [0.782731,0.145893,0.0713761])\n",
      "LOST BET: bet $1 on outcome match 1989971 to be HOME @ 1.630000 (probs: [0.727494,0.178761,0.0937455])\n",
      "WON BET: bet $1 on outcome match 1989976 to be HOME @ 1.400000 (probs: [0.710799,0.18553,0.103671])\n",
      "WON BET: bet $1 on outcome match 2030264 to be HOME @ 1.150000 (probs: [0.774368,0.150236,0.075396])\n",
      "WON BET: bet $1 on outcome match 2030268 to be HOME @ 1.070000 (probs: [0.808284,0.130959,0.0607573])\n",
      "LOST BET: bet $1 on outcome match 1988914 to be HOME @ 1.460000 (probs: [0.719144,0.180235,0.100622])\n",
      "LOST BET: bet $1 on outcome match 2015970 to be HOME @ 1.120000 (probs: [0.795212,0.139373,0.0654141])\n",
      "WON BET: bet $1 on outcome match 1979992 to be HOME @ 1.250000 (probs: [0.731943,0.174085,0.0939722])\n",
      "WON BET: bet $1 on outcome match 2030351 to be HOME @ 1.150000 (probs: [0.765485,0.153609,0.0809065])\n",
      "WON BET: bet $1 on outcome match 2030355 to be HOME @ 1.090000 (probs: [0.78765,0.142707,0.0696429])\n",
      "WON BET: bet $1 on outcome match 1990939 to be HOME @ 1.200000 (probs: [0.768402,0.153136,0.0784613])\n",
      "WON BET: bet $1 on outcome match 1989999 to be HOME @ 1.930000 (probs: [0.702429,0.191711,0.105859])\n",
      "LOST BET: bet $1 on outcome match 1988934 to be HOME @ 1.910000 (probs: [0.703112,0.184626,0.112262])\n",
      "LOST BET: bet $1 on outcome match 1989993 to be HOME @ 1.500000 (probs: [0.713842,0.18387,0.102288])\n",
      "WON BET: bet $1 on outcome match 1983436 to be HOME @ 1.590000 (probs: [0.718778,0.177425,0.103797])\n",
      "WON BET: bet $1 on outcome match 2015972 to be HOME @ 1.220000 (probs: [0.783791,0.146329,0.0698806])\n",
      "WON BET: bet $1 on outcome match 1990985 to be HOME @ 1.250000 (probs: [0.737267,0.169392,0.0933409])\n",
      "WON BET: bet $1 on outcome match 1980000 to be HOME @ 1.480000 (probs: [0.753876,0.161838,0.0842858])\n",
      "LOST BET: bet $1 on outcome match 2060298 to be HOME @ 1.450000 (probs: [0.758414,0.162773,0.0788129])\n",
      "WON BET: bet $1 on outcome match 2015975 to be HOME @ 1.200000 (probs: [0.7647,0.155006,0.0802939])\n",
      "LOST BET: bet $1 on outcome match 1983444 to be HOME @ 1.300000 (probs: [0.746591,0.164557,0.088852])\n",
      "WON BET: bet $1 on outcome match 2060308 to be HOME @ 1.250000 (probs: [0.736406,0.173655,0.0899389])\n",
      "WON BET: bet $1 on outcome match 1983455 to be HOME @ 1.100000 (probs: [0.770569,0.153142,0.0762881])\n",
      "WON BET: bet $1 on outcome match 2015980 to be HOME @ 1.170000 (probs: [0.707016,0.186594,0.10639])\n",
      "WON BET: bet $1 on outcome match 2030370 to be HOME @ 1.600000 (probs: [0.707988,0.179463,0.112548])\n",
      "WON BET: bet $1 on outcome match 2002255 to be HOME @ 1.110000 (probs: [0.749204,0.162995,0.0878002])\n",
      "WON BET: bet $1 on outcome match 2015987 to be HOME @ 1.700000 (probs: [0.71304,0.184668,0.102292])\n",
      "WON BET: bet $1 on outcome match 2030374 to be HOME @ 1.110000 (probs: [0.775229,0.149102,0.0756695])\n",
      "WON BET: bet $1 on outcome match 1988947 to be HOME @ 1.750000 (probs: [0.735719,0.169816,0.094465])\n",
      "WON BET: bet $1 on outcome match 2060328 to be HOME @ 1.450000 (probs: [0.721757,0.18239,0.0958533])\n",
      "LOST BET: bet $1 on outcome match 1988954 to be HOME @ 1.620000 (probs: [0.704144,0.185806,0.11005])\n",
      "WON BET: bet $1 on outcome match 2060346 to be HOME @ 1.170000 (probs: [0.753366,0.165868,0.0807662])\n",
      "LOST BET: bet $1 on outcome match 2015989 to be HOME @ 1.180000 (probs: [0.797673,0.13845,0.063877])\n",
      "WON BET: bet $1 on outcome match 1992141 to be HOME @ 1.000000 (probs: [0.702348,0.186575,0.111077])\n",
      "WON BET: bet $1 on outcome match 1980024 to be HOME @ 1.450000 (probs: [0.708308,0.183676,0.108015])\n",
      "WON BET: bet $1 on outcome match 1988963 to be HOME @ 1.500000 (probs: [0.717543,0.180362,0.102095])\n",
      "WON BET: bet $1 on outcome match 1990993 to be HOME @ 1.290000 (probs: [0.746791,0.165635,0.0875738])\n",
      "WON BET: bet $1 on outcome match 2030393 to be HOME @ 1.330000 (probs: [0.748232,0.162727,0.0890411])\n",
      "WON BET: bet $1 on outcome match 2016004 to be HOME @ 1.880000 (probs: [0.722524,0.178906,0.0985698])\n",
      "WON BET: bet $1 on outcome match 2030389 to be HOME @ 1.100000 (probs: [0.785518,0.143035,0.0714471])\n",
      "WON BET: bet $1 on outcome match 1983482 to be HOME @ 1.290000 (probs: [0.728718,0.173353,0.0979289])\n",
      "WON BET: bet $1 on outcome match 1990999 to be HOME @ 1.220000 (probs: [0.737457,0.169226,0.0933167])\n",
      "WON BET: bet $1 on outcome match 1983486 to be HOME @ 1.190000 (probs: [0.78607,0.145176,0.0687544])\n",
      "WON BET: bet $1 on outcome match 2016012 to be HOME @ 1.200000 (probs: [0.801252,0.135854,0.0628942])\n",
      "WON BET: bet $1 on outcome match 1992151 to be HOME @ 1.000000 (probs: [0.783023,0.146387,0.0705901])\n",
      "WON BET: bet $1 on outcome match 2016009 to be HOME @ 1.220000 (probs: [0.709975,0.185011,0.105014])\n",
      "WON BET: bet $1 on outcome match 1983491 to be HOME @ 1.300000 (probs: [0.740063,0.168698,0.0912395])\n",
      "WON BET: bet $1 on outcome match 2030408 to be HOME @ 1.200000 (probs: [0.737294,0.166472,0.0962337])\n",
      "WON BET: bet $1 on outcome match 2016020 to be HOME @ 1.140000 (probs: [0.806677,0.132386,0.0609371])\n",
      "LOST BET: bet $1 on outcome match 2002300 to be HOME @ 1.150000 (probs: [0.727734,0.173397,0.098868])\n",
      "LOST BET: bet $1 on outcome match 1991011 to be HOME @ 1.180000 (probs: [0.774145,0.151018,0.0748365])\n",
      "WON BET: bet $1 on outcome match 1980048 to be HOME @ 1.230000 (probs: [0.706286,0.186459,0.107255])\n",
      "LOST BET: bet $1 on outcome match 1988990 to be HOME @ 1.530000 (probs: [0.713101,0.182603,0.104296])\n",
      "LOST BET: bet $1 on outcome match 1990011 to be HOME @ 1.750000 (probs: [0.747764,0.16774,0.0844964])\n",
      "WON BET: bet $1 on outcome match 2030431 to be HOME @ 1.330000 (probs: [0.769465,0.151739,0.0787956])\n",
      "WON BET: bet $1 on outcome match 2060462 to be HOME @ 1.370000 (probs: [0.704714,0.18763,0.107656])\n",
      "WON BET: bet $1 on outcome match 2002318 to be HOME @ 1.150000 (probs: [0.745723,0.164828,0.0894488])\n",
      "WON BET: bet $1 on outcome match 2016042 to be HOME @ 1.170000 (probs: [0.819437,0.124973,0.0555904])\n",
      "WON BET: bet $1 on outcome match 2030439 to be HOME @ 1.070000 (probs: [0.791861,0.140084,0.0680552])\n",
      "WON BET: bet $1 on outcome match 1980056 to be HOME @ 1.700000 (probs: [0.719358,0.177965,0.102677])\n",
      "LOST BET: bet $1 on outcome match 1983514 to be HOME @ 1.280000 (probs: [0.748068,0.165166,0.086766])\n",
      "WON BET: bet $1 on outcome match 1992166 to be HOME @ 1.000000 (probs: [0.72328,0.176535,0.100186])\n",
      "WON BET: bet $1 on outcome match 2016039 to be HOME @ 1.120000 (probs: [0.853579,0.104827,0.0415941])\n",
      "LOST BET: bet $1 on outcome match 1989010 to be HOME @ 1.760000 (probs: [0.719435,0.180176,0.100389])\n",
      "WON BET: bet $1 on outcome match 1983517 to be HOME @ 1.290000 (probs: [0.711601,0.184664,0.103735])\n",
      "WON BET: bet $1 on outcome match 2016043 to be HOME @ 1.250000 (probs: [0.704808,0.18868,0.106512])\n",
      "WON BET: bet $1 on outcome match 2016050 to be HOME @ 1.370000 (probs: [0.709354,0.183854,0.106792])\n",
      "WON BET: bet $1 on outcome match 2030450 to be HOME @ 1.400000 (probs: [0.717266,0.176235,0.106499])\n",
      "WON BET: bet $1 on outcome match 2002336 to be HOME @ 1.130000 (probs: [0.755035,0.160405,0.0845601])\n",
      "WON BET: bet $1 on outcome match 2060494 to be HOME @ 1.310000 (probs: [0.713554,0.184666,0.10178])\n",
      "WON BET: bet $1 on outcome match 1983527 to be HOME @ 1.290000 (probs: [0.711617,0.185126,0.103257])\n",
      "WON BET: bet $1 on outcome match 1991030 to be HOME @ 1.300000 (probs: [0.739184,0.168495,0.092321])\n",
      "WON BET: bet $1 on outcome match 1983532 to be HOME @ 1.290000 (probs: [0.728012,0.173956,0.0980321])\n",
      "LOST BET: bet $1 on outcome match 2016060 to be HOME @ 1.100000 (probs: [0.863571,0.0986128,0.0378158])\n",
      "WON BET: bet $1 on outcome match 1989033 to be HOME @ 1.370000 (probs: [0.713579,0.182317,0.104103])\n",
      "LOST BET: bet $1 on outcome match 1990050 to be HOME @ 2.200000 (probs: [0.787058,0.147522,0.0654201])\n",
      "WON BET: bet $1 on outcome match 1983537 to be HOME @ 1.190000 (probs: [0.776003,0.149956,0.0740409])\n",
      "WON BET: bet $1 on outcome match 2030469 to be HOME @ 1.200000 (probs: [0.778749,0.148824,0.0724273])\n",
      "WON BET: bet $1 on outcome match 1992185 to be HOME @ 1.000000 (probs: [0.724448,0.177445,0.0981067])\n",
      "WON BET: bet $1 on outcome match 1989045 to be HOME @ 1.260000 (probs: [0.724543,0.175446,0.100011])\n",
      "LOST BET: bet $1 on outcome match 1983547 to be HOME @ 1.450000 (probs: [0.726178,0.174449,0.0993733])\n",
      "WON BET: bet $1 on outcome match 2016074 to be HOME @ 1.290000 (probs: [0.759195,0.156856,0.0839484])\n",
      "LOST BET: bet $1 on outcome match 2030481 to be HOME @ 1.170000 (probs: [0.71971,0.174595,0.105695])\n",
      "WON BET: bet $1 on outcome match 1992189 to be HOME @ 1.000000 (probs: [0.709668,0.185833,0.104499])\n",
      "WON BET: bet $1 on outcome match 2016076 to be HOME @ 1.140000 (probs: [0.792674,0.140783,0.0665431])\n",
      "WON BET: bet $1 on outcome match 2016077 to be HOME @ 1.390000 (probs: [0.778647,0.148062,0.0732917])\n",
      "WON BET: bet $1 on outcome match 1989005 to be HOME @ 1.550000 (probs: [0.710391,0.181614,0.107995])\n",
      "WON BET: bet $1 on outcome match 1983553 to be HOME @ 1.820000 (probs: [0.733985,0.173897,0.0921181])\n",
      "WON BET: bet $1 on outcome match 2030488 to be HOME @ 1.250000 (probs: [0.72809,0.172075,0.0998348])\n",
      "WON BET: bet $1 on outcome match 1992191 to be HOME @ 1.000000 (probs: [0.794764,0.139243,0.0659933])\n",
      "LOST BET: bet $1 on outcome match 2060556 to be HOME @ 1.500000 (probs: [0.769479,0.156314,0.0742067])\n",
      "WON BET: bet $1 on outcome match 1989055 to be HOME @ 1.330000 (probs: [0.7066,0.18489,0.10851])\n",
      "WON BET: bet $1 on outcome match 2016087 to be HOME @ 1.130000 (probs: [0.730204,0.174343,0.0954532])\n",
      "WON BET: bet $1 on outcome match 2030502 to be HOME @ 1.050000 (probs: [0.802676,0.134286,0.0630376])\n",
      "LOST BET: bet $1 on outcome match 2216647 to be HOME @ 1.220000 (probs: [0.746791,0.165635,0.0875738])\n",
      "WON BET: bet $1 on outcome match 2016093 to be HOME @ 1.150000 (probs: [0.747375,0.163474,0.0891507])\n",
      "WON BET: bet $1 on outcome match 1989060 to be HOME @ 1.290000 (probs: [0.705239,0.187224,0.107537])\n",
      "WON BET: bet $1 on outcome match 1990086 to be HOME @ 1.330000 (probs: [0.774716,0.152556,0.0727288])\n",
      "LOST BET: bet $1 on outcome match 2002433 to be HOME @ 1.440000 (probs: [0.733266,0.170056,0.0966781])\n",
      "WON BET: bet $1 on outcome match 1992201 to be HOME @ 1.000000 (probs: [0.7122,0.181932,0.105868])\n",
      "LOST BET: bet $1 on outcome match 1989063 to be HOME @ 2.150000 (probs: [0.732899,0.17097,0.0961307])\n",
      "WON BET: bet $1 on outcome match 2060596 to be HOME @ 1.350000 (probs: [0.798852,0.139509,0.0616391])\n",
      "LOST BET: bet $1 on outcome match 2060598 to be HOME @ 1.300000 (probs: [0.738904,0.172049,0.0890475])\n",
      "WON BET: bet $1 on outcome match 1983564 to be HOME @ 1.070000 (probs: [0.736902,0.171443,0.0916542])\n",
      "WON BET: bet $1 on outcome match 2016101 to be HOME @ 1.100000 (probs: [0.716719,0.181735,0.101546])\n",
      "WON BET: bet $1 on outcome match 2216660 to be HOME @ 1.530000 (probs: [0.7268,0.174098,0.0991025])\n",
      "WON BET: bet $1 on outcome match 2030523 to be HOME @ 1.050000 (probs: [0.790957,0.140469,0.0685739])\n",
      "LOST BET: bet $1 on outcome match 1992211 to be HOME @ 1.000000 (probs: [0.710497,0.183055,0.106449])\n",
      "WON BET: bet $1 on outcome match 2002487 to be HOME @ 1.150000 (probs: [0.760702,0.156404,0.0828943])\n",
      "WON BET: bet $1 on outcome match 2060640 to be HOME @ 1.100000 (probs: [0.721651,0.181821,0.0965278])\n",
      "WON BET: bet $1 on outcome match 2016107 to be HOME @ 1.330000 (probs: [0.801026,0.135966,0.0630081])\n",
      "LOST BET: bet $1 on outcome match 1987598 to be HOME @ 2.330000 (probs: [0.710201,0.183817,0.105983])\n",
      "WON BET: bet $1 on outcome match 2016113 to be HOME @ 1.130000 (probs: [0.74268,0.16558,0.0917404])\n",
      "WON BET: bet $1 on outcome match 2216671 to be HOME @ 1.250000 (probs: [0.7339,0.170129,0.0959705])\n",
      "WON BET: bet $1 on outcome match 1987600 to be HOME @ 1.700000 (probs: [0.778889,0.146113,0.0749978])\n",
      "Won 143 of 184 bets (0.777174%)\n"
     ]
    }
   ],
   "source": [
    "def examine_bets(bets):\n",
    "    # (mid, amount, on, probabilities)\n",
    "    num_bets_won = 0\n",
    "    for bet in bets:\n",
    "        match = all_matches[bet[0]]\n",
    "        bet_odds = get_odds(bet) # hack\n",
    "        if match.match_result == bet[2]:\n",
    "            num_bets_won += 1\n",
    "            \n",
    "        print(\"%s BET: bet $%d on outcome match %d to be %s @ %f (probs: [%s])\" % \n",
    "              (\"WON\" if match.match_result == bet[2] else \"LOST\",\n",
    "               bet[1],bet[0],MatchResult.toStr(bet[2]),\n",
    "               bet_odds,\",\".join(map(str,bet[3]))))\n",
    "    print(\"Won %d of %d bets (%f%%)\" % (num_bets_won, len(bets), float(num_bets_won)/len(bets)))\n",
    "        \n",
    "examine_bets(testing_bets)"
   ]
  },
  {
   "cell_type": "code",
   "execution_count": null,
   "metadata": {
    "collapsed": true
   },
   "outputs": [],
   "source": []
  },
  {
   "cell_type": "code",
   "execution_count": null,
   "metadata": {
    "collapsed": true
   },
   "outputs": [],
   "source": []
  }
 ],
 "metadata": {
  "kernelspec": {
   "display_name": "Python [Root]",
   "language": "python",
   "name": "Python [Root]"
  },
  "language_info": {
   "codemirror_mode": {
    "name": "ipython",
    "version": 3
   },
   "file_extension": ".py",
   "mimetype": "text/x-python",
   "name": "python",
   "nbconvert_exporter": "python",
   "pygments_lexer": "ipython3",
   "version": "3.5.2"
  }
 },
 "nbformat": 4,
 "nbformat_minor": 0
}
