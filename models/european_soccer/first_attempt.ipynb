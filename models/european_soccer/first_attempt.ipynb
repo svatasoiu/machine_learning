{
 "cells": [
  {
   "cell_type": "code",
   "execution_count": 1,
   "metadata": {
    "collapsed": true
   },
   "outputs": [],
   "source": [
    "%matplotlib inline\n",
    "\n",
    "import matplotlib\n",
    "import numpy as np\n",
    "import matplotlib.pyplot as plt\n",
    "\n",
    "import sqlite3 as sql\n",
    "import pandas as pd"
   ]
  },
  {
   "cell_type": "code",
   "execution_count": 2,
   "metadata": {
    "collapsed": true
   },
   "outputs": [],
   "source": [
    "DB_FILE = \"data/database.sqlite\""
   ]
  },
  {
   "cell_type": "code",
   "execution_count": 3,
   "metadata": {
    "collapsed": true
   },
   "outputs": [],
   "source": [
    "db_conn = sql.connect(DB_FILE)"
   ]
  },
  {
   "cell_type": "code",
   "execution_count": 4,
   "metadata": {
    "collapsed": false
   },
   "outputs": [
    {
     "name": "stdout",
     "output_type": "stream",
     "text": [
      "(1, 505942, 'Aaron Appindangoye', 218353, '1992-02-29 00:00:00', 182.88, 187)\n",
      "(2, 155782, 'Aaron Cresswell', 189615, '1989-12-15 00:00:00', 170.18, 146)\n",
      "(3, 162549, 'Aaron Doran', 186170, '1991-05-13 00:00:00', 170.18, 163)\n",
      "(4, 30572, 'Aaron Galindo', 140161, '1982-05-08 00:00:00', 182.88, 198)\n",
      "(5, 23780, 'Aaron Hughes', 17725, '1979-11-08 00:00:00', 182.88, 154)\n",
      "(6, 27316, 'Aaron Hunt', 158138, '1986-09-04 00:00:00', 182.88, 161)\n",
      "(7, 564793, 'Aaron Kuhl', 221280, '1996-01-30 00:00:00', 172.72, 146)\n",
      "(8, 30895, 'Aaron Lennon', 152747, '1987-04-16 00:00:00', 165.1, 139)\n",
      "(9, 528212, 'Aaron Lennox', 206592, '1993-02-19 00:00:00', 190.5, 181)\n",
      "(10, 101042, 'Aaron Meijers', 188621, '1987-10-28 00:00:00', 175.26, 170)\n"
     ]
    }
   ],
   "source": [
    "cursor = db_conn.execute(\"SELECT * FROM Player LIMIT 10\")\n",
    "for row in cursor:\n",
    "    print(row)"
   ]
  },
  {
   "cell_type": "code",
   "execution_count": 5,
   "metadata": {
    "collapsed": false
   },
   "outputs": [
    {
     "name": "stdout",
     "output_type": "stream",
     "text": [
      "('2008-07-18 00:00:00',)\n",
      "('2008-07-19 00:00:00',)\n",
      "('2008-07-20 00:00:00',)\n",
      "('2008-07-20 00:00:00',)\n",
      "('2008-07-23 00:00:00',)\n",
      "('2008-07-23 00:00:00',)\n",
      "('2008-07-23 00:00:00',)\n",
      "('2008-07-24 00:00:00',)\n",
      "('2008-07-24 00:00:00',)\n",
      "('2008-07-26 00:00:00',)\n"
     ]
    }
   ],
   "source": [
    "cursor = db_conn.execute(\"SELECT date FROM Match ORDER BY date LIMIT 10 \")\n",
    "for row in cursor:\n",
    "    print(row)"
   ]
  },
  {
   "cell_type": "code",
   "execution_count": 6,
   "metadata": {
    "collapsed": false
   },
   "outputs": [
    {
     "name": "stdout",
     "output_type": "stream",
     "text": [
      "(1, 'Belgium')\n",
      "(1729, 'England')\n",
      "(4769, 'France')\n",
      "(7809, 'Germany')\n",
      "(10257, 'Italy')\n",
      "(13274, 'Netherlands')\n",
      "(15722, 'Poland')\n",
      "(17642, 'Portugal')\n",
      "(19694, 'Scotland')\n",
      "(21518, 'Spain')\n",
      "(24558, 'Switzerland')\n"
     ]
    }
   ],
   "source": [
    "cursor = db_conn.execute(\"SELECT * FROM Country\")\n",
    "for row in cursor:\n",
    "    print(row)"
   ]
  },
  {
   "cell_type": "code",
   "execution_count": 7,
   "metadata": {
    "collapsed": false
   },
   "outputs": [
    {
     "name": "stdout",
     "output_type": "stream",
     "text": [
      "(1, 1, 'Belgium Jupiler League')\n",
      "(1729, 1729, 'England Premier League')\n",
      "(4769, 4769, 'France Ligue 1')\n",
      "(7809, 7809, 'Germany 1. Bundesliga')\n",
      "(10257, 10257, 'Italy Serie A')\n",
      "(13274, 13274, 'Netherlands Eredivisie')\n",
      "(15722, 15722, 'Poland Ekstraklasa')\n",
      "(17642, 17642, 'Portugal Liga ZON Sagres')\n",
      "(19694, 19694, 'Scotland Premier League')\n",
      "(21518, 21518, 'Spain LIGA BBVA')\n",
      "(24558, 24558, 'Switzerland Super League')\n"
     ]
    }
   ],
   "source": [
    "cursor = db_conn.execute(\"SELECT * FROM League\")\n",
    "for row in cursor:\n",
    "    print(row)"
   ]
  },
  {
   "cell_type": "code",
   "execution_count": 8,
   "metadata": {
    "collapsed": true
   },
   "outputs": [],
   "source": [
    "# classes for data objects\n",
    "match_columns = \"id,country_id,league_id,season,stage,date,match_api_id,home_team_api_id,away_team_api_id,home_team_goal,away_team_goal\"\n",
    "betting_sources = [\"B365\",\"BW\",\"IW\",\"LB\",\"PS\",\"WH\",\"SJ\",\"VC\",\"GB\",\"BS\"]\n",
    "outcomes = [\"H\",\"D\",\"A\"]\n",
    "for b in betting_sources:\n",
    "    for o in outcomes:\n",
    "        match_columns += \",\" + b + o\n",
    "\n",
    "team_columns = \"id,team_api_id,team_fifa_api_id,team_long_name,team_short_name\"\n",
    "\n",
    "def create_lookup(column_names, delim=\",\"):\n",
    "    return {c: i for (i,c) in enumerate(column_names.split(delim))}\n",
    "\n",
    "match_column_lookup = create_lookup(match_columns)\n",
    "team_column_lookup = create_lookup(team_columns)\n",
    "all_match_ids = []\n",
    "all_matches = {}\n",
    "all_teams = {}\n",
    "\n",
    "class MatchResult:\n",
    "    HOME = 0\n",
    "    DRAW = 1\n",
    "    AWAY = 2\n",
    "    \n",
    "    def toStr(mr):\n",
    "        if mr == MatchResult.HOME:\n",
    "            return \"HOME\"\n",
    "        elif mr == MatchResult.DRAW:\n",
    "            return \"DRAW\"\n",
    "        elif mr == MatchResult.AWAY:\n",
    "            return \"AWAY\"\n",
    "        else:\n",
    "            return \"UNKNOWN RESULT\"\n",
    "\n",
    "class Match(object):\n",
    "    def __init__(self, rawData):\n",
    "        # set attributes\n",
    "        for col_name in match_column_lookup:\n",
    "            setattr(self, col_name, rawData[match_column_lookup[col_name]])\n",
    "            \n",
    "        self.best_home_odds = self.best_draw_odds = self.best_away_odds = 0\n",
    "        self.implied_home_odds = self.implied_draw_odds = self.implied_away_odds = 0.\n",
    "        if self.home_team_goal > self.away_team_goal:\n",
    "            self.match_result = MatchResult.HOME\n",
    "        elif self.home_team_goal == self.away_team_goal:\n",
    "            self.match_result = MatchResult.DRAW\n",
    "        else:\n",
    "            self.match_result = MatchResult.AWAY\n",
    "            \n",
    "    # input: match, object of class Match\n",
    "    # output: vector of real-valued features, vector of associated labels\n",
    "    def compute_features(self, one_hot=False):\n",
    "        # [home_team_win_percentage,home_team_draw_percentage,home_team_loss_percentage,...\n",
    "        #  away_team_win_percentage,away_team_draw_percentage,away_team_loss_percentage]\n",
    "        # TODO: historical matchup percentages\n",
    "        # TODO: fifa player ratings\n",
    "        # TODO: fifa team attributes\n",
    "        home_team = all_teams[self.home_team_api_id]\n",
    "        away_team = all_teams[self.away_team_api_id]\n",
    "        features = home_team.features + away_team.features\n",
    "\n",
    "        if one_hot:\n",
    "            label = [0 for _ in range(3)]\n",
    "            label[self.match_result] = 1\n",
    "            return (features, label)\n",
    "        else:\n",
    "            return (features, self.match_result)\n",
    "    \n",
    "class Team(object):\n",
    "    def __init__(self, rawData):\n",
    "        # set attributes\n",
    "        for col_name in team_column_lookup:\n",
    "            setattr(self, col_name, rawData[team_column_lookup[col_name]])        \n",
    "        self.home_wins = self.home_draws = self.home_losses = 0\n",
    "        self.away_wins = self.away_draws = self.away_losses = 0       \n",
    "        self.home_win_percentage = self.home_draw_percentage = self.home_loss_percentage = 0\n",
    "        self.away_win_percentage = self.away_draw_percentage = self.away_loss_percentage = 0\n",
    "    \n",
    "    @property\n",
    "    def features(self):\n",
    "        return [self.home_win_percentage, self.away_win_percentage, \n",
    "               self.home_draw_percentage, self.away_draw_percentage,\n",
    "               self.home_loss_percentage, self.away_loss_percentage]\n",
    "\n",
    "def compute_win_percentages(matches):\n",
    "    # compute win percentage\n",
    "    for match in matches.values():\n",
    "        if match.match_result == MatchResult.HOME:\n",
    "            all_teams[match.home_team_api_id].home_wins += 1\n",
    "            all_teams[match.away_team_api_id].away_losses += 1\n",
    "        elif match.match_result == MatchResult.DRAW:\n",
    "            all_teams[match.home_team_api_id].home_draws += 1\n",
    "            all_teams[match.away_team_api_id].away_draws += 1\n",
    "        else:\n",
    "            all_teams[match.home_team_api_id].home_losses += 1\n",
    "            all_teams[match.away_team_api_id].away_wins += 1\n",
    "\n",
    "    for team in all_teams.values():\n",
    "        total_home_games = float(team.home_wins + team.home_draws + team.home_losses)\n",
    "        if total_home_games > 0:\n",
    "            team.home_win_percentage = team.home_wins / total_home_games\n",
    "            team.home_draw_percentage = team.home_draws / total_home_games\n",
    "            team.home_loss_percentage = team.home_losses / total_home_games\n",
    "        total_away_games = float(team.away_wins + team.away_draws + team.away_losses)\n",
    "        if total_away_games > 0:\n",
    "            team.away_win_percentage = team.away_wins / total_away_games\n",
    "            team.away_draw_percentage = team.away_draws / total_away_games\n",
    "            team.away_loss_percentage = team.away_losses / total_away_games\n",
    "\n",
    "def compute_implied_odds(odds):\n",
    "    return 1./odds\n",
    "    \n",
    "def compute_best_odds(matches):\n",
    "    for match in matches.values():\n",
    "        odds = {o: [getattr(match, source + o) for source in betting_sources \n",
    "                if getattr(match, source + o) is not None] for o in outcomes }\n",
    "        if len(odds[outcomes[MatchResult.HOME]]) > 0:\n",
    "            match.best_home_odds = max(odds[outcomes[MatchResult.HOME]])\n",
    "            match.implied_home_odds = compute_implied_odds(match.best_home_odds)\n",
    "        if len(odds[outcomes[MatchResult.DRAW]]) > 0:\n",
    "            match.best_draw_odds = max(odds[outcomes[MatchResult.DRAW]])\n",
    "            match.implied_draw_odds = compute_implied_odds(match.best_draw_odds)\n",
    "        if len(odds[outcomes[MatchResult.AWAY]]) > 0:\n",
    "            match.best_away_odds = max(odds[outcomes[MatchResult.AWAY]])\n",
    "            match.implied_away_odds = compute_implied_odds(match.best_away_odds)"
   ]
  },
  {
   "cell_type": "code",
   "execution_count": 9,
   "metadata": {
    "collapsed": false
   },
   "outputs": [],
   "source": [
    "# load all matches\n",
    "# only EPL for now\n",
    "cursor = db_conn.execute(\"SELECT %s FROM Match ORDER BY date\" % (match_columns))\n",
    "for row in cursor:\n",
    "    mid = row[match_column_lookup['match_api_id']]\n",
    "    all_match_ids.append(mid)\n",
    "    all_matches[mid] = Match(row)"
   ]
  },
  {
   "cell_type": "code",
   "execution_count": 10,
   "metadata": {
    "collapsed": true
   },
   "outputs": [],
   "source": [
    "# load all teams\n",
    "cursor = db_conn.execute(\"SELECT %s FROM Team\" % (team_columns))\n",
    "for row in cursor:\n",
    "    all_teams[row[team_column_lookup['team_api_id']]] = Team(row)"
   ]
  },
  {
   "cell_type": "code",
   "execution_count": 11,
   "metadata": {
    "collapsed": true
   },
   "outputs": [],
   "source": [
    "from sklearn.model_selection import cross_val_score\n",
    "from sklearn.ensemble import RandomForestClassifier\n",
    "from sklearn import tree, metrics"
   ]
  },
  {
   "cell_type": "code",
   "execution_count": 12,
   "metadata": {
    "collapsed": false
   },
   "outputs": [],
   "source": [
    "# create training/testing data sets\n",
    "PROPORTION_TRAIN = 0.9\n",
    "\n",
    "num_matches = len(all_matches)\n",
    "num_train = int(PROPORTION_TRAIN * num_matches)\n",
    "\n",
    "training_match_ids = all_match_ids[:num_train]\n",
    "testing_match_ids = all_match_ids[num_train:]\n",
    "\n",
    "# only compute statistics using training data\n",
    "compute_win_percentages({mid:all_matches[mid] for mid in training_match_ids})\n",
    "compute_best_odds(all_matches)"
   ]
  },
  {
   "cell_type": "code",
   "execution_count": 13,
   "metadata": {
    "collapsed": false
   },
   "outputs": [
    {
     "name": "stdout",
     "output_type": "stream",
     "text": [
      "Ajax 0.7622950819672131\n",
      "Manchester United 0.781021897810219\n",
      "Chelsea 0.708029197080292\n",
      "SL Benfica 0.8198198198198198\n",
      "FC Porto 0.8454545454545455\n",
      "Real Madrid CF 0.8455882352941176\n",
      "FC Bayern Munich 0.7967479674796748\n",
      "Celtic 0.7971014492753623\n",
      "FC Basel 0.7251908396946565\n",
      "Termalica Bruk-Bet Nieciecza 0.75\n",
      "Manchester City 0.7591240875912408\n",
      "Rangers 0.7368421052631579\n",
      "FC Barcelona 0.8676470588235294\n",
      "RSC Anderlecht 0.75\n",
      "PSV 0.7786885245901639\n"
     ]
    },
    {
     "data": {
      "image/png": "[encoded data removed]",
      "text/plain": [
       "<matplotlib.figure.Figure at 0x7f4201267518>"
      ]
     },
     "metadata": {},
     "output_type": "display_data"
    }
   ],
   "source": [
    "win_percentages = [team.home_win_percentage for team in all_teams.values()]\n",
    "plt.hist(win_percentages, 50, facecolor='green', alpha=0.75)\n",
    "\n",
    "for team in all_teams.values():\n",
    "    if team.home_win_percentage > 0.7:\n",
    "        print(team.team_long_name, team.home_win_percentage)"
   ]
  },
  {
   "cell_type": "code",
   "execution_count": 14,
   "metadata": {
    "collapsed": false
   },
   "outputs": [],
   "source": [
    "class BettingAlgorithm():\n",
    "    def __init__(self):\n",
    "        pass\n",
    "    \n",
    "    def train(self, matches):\n",
    "        pass\n",
    "    \n",
    "    def form_bets(self, matches):\n",
    "        pass\n",
    "\n",
    "def compute_features_from_raw_data(matches, one_hot=False):\n",
    "    X = []\n",
    "    y = []\n",
    "    for match in matches:\n",
    "        (f,l) = match.compute_features(one_hot=one_hot)\n",
    "        X.append(f)\n",
    "        y.append(l)\n",
    "    X = np.array(X, dtype=np.float32)\n",
    "    y = np.array(y, dtype=np.uint8)\n",
    "    return (X, y)\n",
    "\n",
    "def get_odds(bet):\n",
    "    if bet[2] == MatchResult.HOME:\n",
    "        return all_matches[bet[0]].best_home_odds\n",
    "    elif bet[2] == MatchResult.DRAW:\n",
    "        return all_matches[bet[0]].best_draw_odds\n",
    "    else:\n",
    "        return all_matches[bet[0]].best_away_odds\n",
    "\n",
    "# bet : (mid, amount, winner)\n",
    "def calculate_win_loss(b):\n",
    "    m = all_matches[b[0]]\n",
    "    odds = get_odds(b)\n",
    "    if odds == 1.:\n",
    "        return 0\n",
    "    elif m.match_result == MatchResult.HOME and b[2] == MatchResult.HOME:\n",
    "        return b[1] * (odds - 1)\n",
    "    elif m.match_result == MatchResult.DRAW and b[2] == MatchResult.DRAW:\n",
    "        return b[1] * (odds - 1)\n",
    "    elif m.match_result == MatchResult.AWAY and b[2] == MatchResult.AWAY:\n",
    "        return b[1] * (odds - 1)\n",
    "    else:\n",
    "        return -b[1]\n",
    "\n",
    "def compute_pnl(bets):\n",
    "    return sum([calculate_win_loss(b) for b in bets])"
   ]
  },
  {
   "cell_type": "code",
   "execution_count": 15,
   "metadata": {
    "collapsed": true
   },
   "outputs": [],
   "source": [
    "# naive predictor that always picks favorite\n",
    "class NaiveAlgorithm(BettingAlgorithm):\n",
    "    def __init__(self, **kwargs):\n",
    "        super(NaiveAlgorithm, self).__init__()\n",
    "    \n",
    "    def train(self, matches):\n",
    "        pass\n",
    "        \n",
    "    def form_bets(self, matches):\n",
    "        matches = list(matches)\n",
    "        bets = []\n",
    "        for m in matches:\n",
    "            if m.best_home_odds > 1 and m.best_draw_odds > 1 and m.best_away_odds > 1:\n",
    "                ind = np.argmin([m.best_home_odds, m.best_draw_odds, m.best_away_odds])\n",
    "                bets.append((m.match_api_id, 1., ind))\n",
    "        return bets"
   ]
  },
  {
   "cell_type": "code",
   "execution_count": 16,
   "metadata": {
    "collapsed": true
   },
   "outputs": [],
   "source": [
    "# random forest predictor\n",
    "class RandomForestAlgorithm(BettingAlgorithm):\n",
    "    def __init__(self, **kwargs):\n",
    "        super(RandomForestAlgorithm, self).__init__()\n",
    "        self.classifier = RandomForestClassifier(**kwargs)\n",
    "    \n",
    "    def train(self, matches):\n",
    "        X, y = compute_features_from_raw_data(matches)\n",
    "        self.classifier = self.classifier.fit(X, y)\n",
    "        \n",
    "    def form_bets(self, matches):\n",
    "        matches = list(matches)\n",
    "        X, y = compute_features_from_raw_data(matches)\n",
    "        predicted_labels = self.classifier.predict(X)\n",
    "        print(sum([1 if y_true==y_pred else 0 for (y_true,y_pred) in zip(y,predicted_labels)])/float(len(y)))\n",
    "        # juts bet $1 on every thing\n",
    "        return [(m.match_api_id, 1., outcome) for (m,outcome) in zip(matches,predicted_labels)]"
   ]
  },
  {
   "cell_type": "code",
   "execution_count": 17,
   "metadata": {
    "collapsed": false
   },
   "outputs": [],
   "source": [
    "# neural net algorithm\n",
    "import tensorflow as tf\n",
    "def weight_variable(shape):\n",
    "  initial = tf.truncated_normal(shape, stddev=0.1)\n",
    "  return tf.Variable(initial)\n",
    "\n",
    "def bias_variable(shape):\n",
    "  initial = tf.constant(0., shape=shape)\n",
    "  return tf.Variable(initial)\n",
    "\n",
    "class BetMaker(object):\n",
    "    def make_bet(match, probs):\n",
    "        pass\n",
    "    \n",
    "class SureBetter(BetMaker):\n",
    "    def __init__(self, p_threshold, scale_bet=True):\n",
    "        self.p_threshold = p_threshold\n",
    "        self.scale_bet = scale_bet\n",
    "        \n",
    "    def make_bet(self, match, probs):\n",
    "        bets = []\n",
    "        if max(probs) > self.p_threshold:\n",
    "            predicted_result = np.argmax(probs)\n",
    "            bets.append((match.match_api_id, \n",
    "                         1./(1-max(probs)) if self.scale_bet else 1., \n",
    "                         predicted_result, \n",
    "                         probs))\n",
    "        return bets\n",
    "\n",
    "class EdgeBetter(BetMaker):\n",
    "    def __init__(self, scale_bet=True):\n",
    "        self.scale_bet = scale_bet\n",
    "        \n",
    "    def make_bet(self, match, probs):\n",
    "        bets = []\n",
    "        try:\n",
    "            if probs[MatchResult.HOME] > match.implied_home_odds:\n",
    "                bets.append((match.match_api_id, 1., MatchResult.HOME, probs))\n",
    "            if probs[MatchResult.DRAW] > match.implied_draw_odds:\n",
    "                bets.append((match.match_api_id, 1., MatchResult.DRAW, probs))\n",
    "            if probs[MatchResult.AWAY] > match.implied_away_odds:\n",
    "                bets.append((match.match_api_id, 1., MatchResult.AWAY, probs))\n",
    "        except:\n",
    "            pass\n",
    "        return bets\n",
    "\n",
    "class NeuralNetAlgorithm(BettingAlgorithm):\n",
    "    def __init__(self, bet_maker):\n",
    "        super(NeuralNetAlgorithm, self).__init__()\n",
    "        self.num_classes = 3\n",
    "        self.sess = tf.InteractiveSession()\n",
    "        self.bet_maker = bet_maker\n",
    "        self.training_drop_probability = 0.5\n",
    "    \n",
    "    def train(self, matches):\n",
    "        self.X, self.y = compute_features_from_raw_data(matches, one_hot=True)\n",
    "        self.index_in_epoch = 0\n",
    "        self.num_examples = self.X.shape[0]\n",
    "        self.num_features = self.X.shape[1]\n",
    "        \n",
    "        # form model\n",
    "        self.x = tf.placeholder(tf.float32, shape=[None, self.num_features])\n",
    "        self.y_ = tf.placeholder(tf.float32, shape=[None, self.num_classes])\n",
    "\n",
    "        # layer 1\n",
    "        self.hidden_layer_size = 64\n",
    "        self.W1 = weight_variable([self.num_features, self.hidden_layer_size]) \n",
    "        self.b1 = bias_variable([self.hidden_layer_size])\n",
    "        self.h1 = tf.nn.relu(tf.matmul(self.x, self.W1) + self.b1)\n",
    "        \n",
    "        # layer 2\n",
    "        self.W2 = weight_variable([self.hidden_layer_size, self.num_classes]) \n",
    "        self.b2 = bias_variable([self.num_classes]) \n",
    "        \n",
    "        # dropout\n",
    "        self.keep_prob = tf.placeholder(tf.float32)\n",
    "        self.y_dropped = tf.nn.dropout(self.h1, self.keep_prob)\n",
    "        \n",
    "        # softmax\n",
    "        self.y_pred = tf.nn.softmax(tf.matmul(self.y_dropped, self.W2) + self.b2)\n",
    "        \n",
    "        self.cross_entropy = tf.reduce_mean(-tf.reduce_sum(self.y_ * tf.log(self.y_pred), reduction_indices=[1]))\n",
    "        self.train_step = tf.train.AdamOptimizer(1e-4).minimize(self.cross_entropy)\n",
    "\n",
    "        self.correct_prediction = tf.equal(tf.argmax(self.y_pred,1), tf.argmax(self.y_,1))\n",
    "        self.accuracy = tf.reduce_mean(tf.cast(self.correct_prediction, tf.float32))\n",
    "\n",
    "        # actual train\n",
    "        self.sess.run(tf.initialize_all_variables())\n",
    "        for i in range(10000):\n",
    "            batch = self.next_batch(100)\n",
    "            if i % 1000 == 0:\n",
    "                train_accuracy = self.accuracy.eval(feed_dict={ self.x: batch[0], self.y_: batch[1], self.keep_prob: 1.0 })\n",
    "                print(\"step %d: training accuracy %g\" % (i, train_accuracy))\n",
    "            self.train_step.run(feed_dict={ self.x: batch[0], self.y_: batch[1], \n",
    "                                           self.keep_prob: self.training_drop_probability })\n",
    "    \n",
    "    def form_bets(self, matches):\n",
    "        matches = list(matches)\n",
    "        X, y = compute_features_from_raw_data(matches, one_hot=True)\n",
    "        acc = self.accuracy.eval(feed_dict={ self.x: X, self.y_: y, self.keep_prob: 1.0 })\n",
    "        print(acc)\n",
    "        predictions = self.y_pred.eval(feed_dict={ self.x: X, self.y_: y, self.keep_prob: 1.0 })\n",
    "        \n",
    "        # only make bet if has highish confidence\n",
    "        bets = []\n",
    "        for (m,probs) in zip(matches,predictions):\n",
    "            bets += self.bet_maker.make_bet(m, probs)\n",
    "        \n",
    "        return bets\n",
    "    \n",
    "    # serve data by batches\n",
    "    def next_batch(self, batch_size):\n",
    "        start = self.index_in_epoch\n",
    "        self.index_in_epoch += batch_size\n",
    "\n",
    "        # when all trainig data have been already used, it is reorder randomly    \n",
    "        if self.index_in_epoch > self.num_examples:\n",
    "            # shuffle the data\n",
    "            perm = np.arange(self.num_examples)\n",
    "            np.random.shuffle(perm)\n",
    "            self.X = self.X[perm]\n",
    "            self.y = self.y[perm]\n",
    "            # start next epoch\n",
    "            start = 0\n",
    "            self.index_in_epoch = batch_size\n",
    "        end = self.index_in_epoch\n",
    "        return self.X[start:end], self.y[start:end]"
   ]
  },
  {
   "cell_type": "code",
   "execution_count": 18,
   "metadata": {
    "collapsed": false
   },
   "outputs": [
    {
     "data": {
      "text/plain": [
       "-70.60000000000016"
      ]
     },
     "execution_count": 18,
     "metadata": {},
     "output_type": "execute_result"
    }
   ],
   "source": [
    "# test and evaluate Naive Algo\n",
    "naive_algo = NaiveAlgorithm()\n",
    "\n",
    "# train (naive doesn't train)\n",
    "\n",
    "# evaluate\n",
    "testing_bets = naive_algo.form_bets([all_matches[mid] for mid in testing_match_ids])\n",
    "compute_pnl(testing_bets)"
   ]
  },
  {
   "cell_type": "code",
   "execution_count": 19,
   "metadata": {
    "collapsed": false
   },
   "outputs": [
    {
     "name": "stdout",
     "output_type": "stream",
     "text": [
      "0.4380292532717475\n"
     ]
    },
    {
     "data": {
      "text/plain": [
       "-250.14000000000013"
      ]
     },
     "execution_count": 19,
     "metadata": {},
     "output_type": "execute_result"
    }
   ],
   "source": [
    "# test and evaluate Random Forest Algo\n",
    "rf_algo = RandomForestAlgorithm(n_estimators = 20)\n",
    "\n",
    "# train\n",
    "rf_algo.train([all_matches[mid] for mid in training_match_ids])\n",
    "\n",
    "# evaluate\n",
    "testing_bets = rf_algo.form_bets([all_matches[mid] for mid in testing_match_ids])\n",
    "compute_pnl(testing_bets)"
   ]
  },
  {
   "cell_type": "code",
   "execution_count": 20,
   "metadata": {
    "collapsed": false
   },
   "outputs": [
    {
     "name": "stdout",
     "output_type": "stream",
     "text": [
      "step 0: training accuracy 0.23\n",
      "step 1000: training accuracy 0.53\n",
      "step 2000: training accuracy 0.48\n",
      "step 3000: training accuracy 0.55\n",
      "step 4000: training accuracy 0.51\n",
      "step 5000: training accuracy 0.51\n",
      "step 6000: training accuracy 0.49\n",
      "step 7000: training accuracy 0.58\n",
      "step 8000: training accuracy 0.55\n",
      "step 9000: training accuracy 0.66\n",
      "0.492687\n"
     ]
    },
    {
     "data": {
      "text/plain": [
       "-25.180889105475188"
      ]
     },
     "execution_count": 20,
     "metadata": {},
     "output_type": "execute_result"
    }
   ],
   "source": [
    "# test and evaluate Neural Net Algo\n",
    "bet_maker = SureBetter(p_threshold = 0.8)\n",
    "nn_algo = NeuralNetAlgorithm(bet_maker)\n",
    "\n",
    "# train\n",
    "nn_algo.train([all_matches[mid] for mid in training_match_ids])\n",
    "\n",
    "# evaluate\n",
    "testing_bets = nn_algo.form_bets([all_matches[mid] for mid in testing_match_ids])\n",
    "compute_pnl(testing_bets)"
   ]
  },
  {
   "cell_type": "code",
   "execution_count": 21,
   "metadata": {
    "collapsed": false
   },
   "outputs": [
    {
     "name": "stdout",
     "output_type": "stream",
     "text": [
      " WON BET: bet $5.703475 on HOME @ 1.180000 (probs: [0.824668,0.124565,0.0507666], implied: [0.8475,0.1297,0.0385])\n",
      "LOST BET: bet $5.279324 on HOME @ 1.220000 (probs: [0.810582,0.133276,0.0561423], implied: [0.8197,0.1333,0.0667])\n",
      " WON BET: bet $5.645537 on HOME @ 1.170000 (probs: [0.822869,0.120968,0.0561631], implied: [0.8547,0.1016,0.0526])\n",
      " WON BET: bet $5.394883 on HOME @ 1.100000 (probs: [0.814639,0.126411,0.0589496], implied: [0.9091,0.0769,0.0294])\n",
      " WON BET: bet $5.006440 on HOME @ 1.150000 (probs: [0.800257,0.134163,0.0655796], implied: [0.8696,0.0833,0.0323])\n",
      " WON BET: bet $5.856208 on HOME @ 1.140000 (probs: [0.829241,0.120454,0.0503046], implied: [0.8772,0.0909,0.0323])\n",
      " WON BET: bet $7.311086 on HOME @ 1.110000 (probs: [0.863221,0.100079,0.0366999], implied: [0.9009,0.0769,0.0323])\n",
      " WON BET: bet $5.545382 on HOME @ 1.240000 (probs: [ 0.81967,0.12874,0.0515904], implied: [0.8065,0.1481,0.0645])\n",
      " WON BET: bet $5.851976 on HOME @ 1.200000 (probs: [ 0.829118,0.12139,0.049493], implied: [0.8333,0.1333,0.0463])\n",
      " WON BET: bet $6.480091 on HOME @ 1.210000 (probs: [0.845681,0.111249,0.0430697], implied: [0.8264,0.1401,0.0604])\n",
      " WON BET: bet $5.279897 on HOME @ 1.100000 (probs: [0.810602,0.128036,0.0613611], implied: [0.9091,0.0652,0.0294])\n",
      " WON BET: bet $5.658848 on HOME @ 1.200000 (probs: [0.823286,0.123486,0.0532287], implied: [0.8333,0.1333,0.0332])\n",
      " WON BET: bet $5.134563 on HOME @ 1.210000 (probs: [0.805241,0.13325,0.0615086], implied: [0.8264,0.1418,0.0557])\n",
      " WON BET: bet $5.533839 on HOME @ 1.130000 (probs: [0.819294,0.123485,0.057221], implied: [0.8850,0.0907,0.0385])\n",
      "LOST BET: bet $5.843144 on HOME @ 1.100000 (probs: [0.828859,0.119164,0.0519769], implied: [0.9091,0.0645,0.0294])\n",
      "LOST BET: bet $5.149630 on HOME @ 1.440000 (probs: [0.805811,0.139566,0.0546232], implied: [0.6944,0.2105,0.1053])\n",
      " WON BET: bet $5.651358 on HOME @ 1.120000 (probs: [0.823051,0.126239,0.0507096], implied: [0.8929,0.0929,0.0385])\n",
      " WON BET: bet $5.031725 on HOME @ 1.300000 (probs: [0.801261,0.135401,0.063338], implied: [0.7692,0.1779,0.0667])\n",
      " WON BET: bet $6.102339 on HOME @ 1.160000 (probs: [0.836128,0.116129,0.0477431], implied: [0.8621,0.1202,0.0385])\n",
      " WON BET: bet $5.212592 on HOME @ 1.100000 (probs: [0.808157,0.128607,0.0632364], implied: [0.9091,0.0667,0.0385])\n",
      " WON BET: bet $6.165768 on HOME @ 1.100000 (probs: [0.837814,0.112605,0.049581], implied: [0.9091,0.0532,0.0244])\n",
      "LOST BET: bet $5.427256 on HOME @ 1.250000 (probs: [0.815745,0.127384,0.0568713], implied: [0.8000,0.1538,0.0667])\n",
      " WON BET: bet $5.391890 on HOME @ 1.150000 (probs: [0.814536,0.126964,0.0584996], implied: [0.8696,0.0873,0.0435])\n",
      " WON BET: bet $6.729603 on HOME @ 1.070000 (probs: [0.851403,0.10512,0.0434767], implied: [0.9346,0.0488,0.0244])\n",
      "LOST BET: bet $6.430484 on HOME @ 1.120000 (probs: [0.844491,0.11445,0.0410591], implied: [0.8929,0.0820,0.0278])\n",
      " WON BET: bet $5.062460 on HOME @ 1.150000 (probs: [0.802468,0.132548,0.0649845], implied: [0.8696,0.1026,0.0385])\n",
      " WON BET: bet $5.963583 on HOME @ 1.090000 (probs: [0.832316,0.116641,0.0510434], implied: [0.9174,0.0588,0.0244])\n",
      " WON BET: bet $5.121475 on HOME @ 1.200000 (probs: [0.804744,0.132008,0.0632486], implied: [0.8333,0.1176,0.0526])\n",
      " WON BET: bet $5.546526 on HOME @ 1.220000 (probs: [0.819707,0.127442,0.0528509], implied: [0.8197,0.1497,0.0526])\n",
      " WON BET: bet $5.303697 on HOME @ 1.100000 (probs: [0.811452,0.131809,0.0567386], implied: [0.9091,0.0711,0.0370])\n",
      " WON BET: bet $5.507560 on HOME @ 1.110000 (probs: [0.818431,0.123778,0.0577912], implied: [0.9009,0.0818,0.0323])\n",
      "LOST BET: bet $5.986665 on HOME @ 1.180000 (probs: [0.832962,0.119672,0.0473661], implied: [0.8475,0.1307,0.0512])\n",
      " WON BET: bet $5.722747 on HOME @ 1.100000 (probs: [0.825259,0.118802,0.055939], implied: [0.9091,0.0667,0.0294])\n",
      " WON BET: bet $5.629260 on HOME @ 1.190000 (probs: [ 0.822357,0.1275,0.0501427], implied: [0.8403,0.1326,0.0541])\n",
      " WON BET: bet $6.152859 on HOME @ 1.200000 (probs: [0.837474,0.115602,0.0469242], implied: [0.8333,0.1361,0.0476])\n",
      " WON BET: bet $5.555027 on HOME @ 0.000000 (probs: [0.819983,0.127936,0.0520809], implied: [0.0000,0.0000,0.0000])\n",
      " WON BET: bet $6.643316 on HOME @ 1.140000 (probs: [0.849473,0.108096,0.0424318], implied: [0.8772,0.1079,0.0323])\n",
      "LOST BET: bet $5.171107 on HOME @ 1.180000 (probs: [0.806618,0.133184,0.0601981], implied: [0.8475,0.1203,0.0522])\n",
      " WON BET: bet $5.279771 on HOME @ 1.330000 (probs: [0.810598,0.126454,0.062948], implied: [0.7519,0.1600,0.1042])\n",
      " WON BET: bet $7.170884 on HOME @ 1.170000 (probs: [0.860547,0.101472,0.0379811], implied: [0.8547,0.1153,0.0432])\n",
      " WON BET: bet $6.000008 on HOME @ 1.070000 (probs: [0.833334,0.115848,0.0508184], implied: [0.9346,0.0500,0.0244])\n",
      " WON BET: bet $10.412586 on HOME @ 1.120000 (probs: [0.903962,0.074351,0.0216866], implied: [0.8929,0.0926,0.0277])\n",
      "LOST BET: bet $11.254846 on HOME @ 1.100000 (probs: [0.911149,0.0695163,0.0193344], implied: [0.9091,0.0842,0.0278])\n",
      "LOST BET: bet $5.399049 on HOME @ 2.200000 (probs: [0.814782,0.139198,0.0460194], implied: [0.4545,0.3125,0.2500])\n",
      " WON BET: bet $5.569389 on HOME @ 1.190000 (probs: [0.820447,0.126469,0.0530837], implied: [0.8403,0.1208,0.0588])\n",
      " WON BET: bet $5.394631 on HOME @ 1.200000 (probs: [0.814631,0.128663,0.0567066], implied: [0.8333,0.1119,0.0528])\n",
      " WON BET: bet $6.009955 on HOME @ 1.140000 (probs: [0.833609,0.118342,0.0480481], implied: [0.8772,0.0935,0.0345])\n",
      " WON BET: bet $6.057951 on HOME @ 1.390000 (probs: [0.834928,0.118287,0.0467857], implied: [0.7194,0.1992,0.1075])\n",
      " WON BET: bet $6.179713 on HOME @ 0.000000 (probs: [0.83818,0.115464,0.0463556], implied: [0.0000,0.0000,0.0000])\n",
      "LOST BET: bet $5.009477 on HOME @ 1.500000 (probs: [0.800378,0.145326,0.0542959], implied: [0.6667,0.2222,0.1176])\n",
      " WON BET: bet $6.470305 on HOME @ 1.050000 (probs: [0.845448,0.109281,0.0452715], implied: [0.9524,0.0588,0.0244])\n",
      " WON BET: bet $5.279819 on HOME @ 1.330000 (probs: [ 0.8106,0.137902,0.0514982], implied: [0.7519,0.1757,0.0863])\n",
      " WON BET: bet $5.940884 on HOME @ 1.350000 (probs: [0.831675,0.125519,0.0428062], implied: [0.7407,0.1667,0.0678])\n",
      " WON BET: bet $5.971468 on HOME @ 1.050000 (probs: [0.832537,0.116133,0.0513298], implied: [0.9524,0.0345,0.0196])\n",
      " WON BET: bet $5.020350 on HOME @ 1.150000 (probs: [0.800811,0.133717,0.065472], implied: [0.8696,0.0699,0.0345])\n",
      " WON BET: bet $6.307506 on HOME @ 1.330000 (probs: [0.841459,0.114159,0.0443825], implied: [0.7519,0.1745,0.0806])\n",
      " WON BET: bet $5.675861 on HOME @ 1.700000 (probs: [0.823815,0.118737,0.0574481], implied: [0.5882,0.2381,0.1783])\n",
      "Won 47 of 57 bets (0.824561%)\n"
     ]
    }
   ],
   "source": [
    "def examine_bets(bets):\n",
    "    # (mid, amount, on, probabilities)\n",
    "    num_bets_won = 0\n",
    "    for bet in bets:\n",
    "        match = all_matches[bet[0]]\n",
    "        bet_odds = get_odds(bet) \n",
    "        if match.match_result == bet[2]:\n",
    "            num_bets_won += 1\n",
    "            \n",
    "        print(\"%4s BET: bet $%f on %s @ %f (probs: [%26s], implied: [%.4f,%.4f,%.4f])\" % \n",
    "              (\"WON\" if match.match_result == bet[2] else \"LOST\",\n",
    "               bet[1],MatchResult.toStr(bet[2]),bet_odds,\n",
    "               \",\".join(map(str,bet[3])),\n",
    "               match.implied_home_odds,match.implied_draw_odds,match.implied_away_odds))\n",
    "    print(\"Won %d of %d bets (%f%%)\" % (num_bets_won, len(bets), float(num_bets_won)/len(bets)))\n",
    "        \n",
    "examine_bets(testing_bets)"
   ]
  },
  {
   "cell_type": "code",
   "execution_count": null,
   "metadata": {
    "collapsed": true
   },
   "outputs": [],
   "source": []
  },
  {
   "cell_type": "code",
   "execution_count": null,
   "metadata": {
    "collapsed": true
   },
   "outputs": [],
   "source": []
  }
 ],
 "metadata": {
  "kernelspec": {
   "display_name": "Python [Root]",
   "language": "python",
   "name": "Python [Root]"
  },
  "language_info": {
   "codemirror_mode": {
    "name": "ipython",
    "version": 3
   },
   "file_extension": ".py",
   "mimetype": "text/x-python",
   "name": "python",
   "nbconvert_exporter": "python",
   "pygments_lexer": "ipython3",
   "version": "3.5.2"
  }
 },
 "nbformat": 4,
 "nbformat_minor": 0
}
